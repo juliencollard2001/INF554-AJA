{
 "cells": [
  {
   "cell_type": "code",
   "execution_count": 1,
   "metadata": {},
   "outputs": [
    {
     "name": "stderr",
     "output_type": "stream",
     "text": [
      "/Users/alicegorge/INF554/miniconda3/lib/python3.11/site-packages/tqdm/auto.py:21: TqdmWarning: IProgress not found. Please update jupyter and ipywidgets. See https://ipywidgets.readthedocs.io/en/stable/user_install.html\n",
      "  from .autonotebook import tqdm as notebook_tqdm\n"
     ]
    }
   ],
   "source": [
    "import json\n",
    "from pathlib import Path\n",
    "import numpy as np\n",
    "import matplotlib.pyplot as plt\n",
    "from tqdm import tqdm \n",
    "import torch\n",
    "from torch_geometric.data import Data\n",
    "import torch.nn as nn\n",
    "from torch_geometric.nn import GCNConv\n",
    "import torch.nn.functional as F\n",
    "from torch_geometric.loader import DataLoader\n",
    "import pandas as pd\n",
    "\n",
    "import difflib\n",
    "from sklearn.feature_extraction.text import TfidfVectorizer\n",
    "\n",
    "import sys\n",
    "sys.path.append('../AJA')\n",
    "import AJA as aja"
   ]
  },
  {
   "cell_type": "code",
   "execution_count": 2,
   "metadata": {},
   "outputs": [],
   "source": [
    "from sklearn.preprocessing import StandardScaler\n",
    "\n",
    "def calculate_similarity(text, neighbors, df):\n",
    "    max_similarity = 0.0\n",
    "    if isinstance(neighbors, list):\n",
    "        for neighbor in neighbors:\n",
    "            if neighbor != []:\n",
    "                if isinstance(neighbor, int):\n",
    "                    neighbor_index = neighbor\n",
    "                else:\n",
    "                    neighbor_index = neighbor[0]\n",
    "                neighbor_text = df.iloc[neighbor_index]['text']\n",
    "                matcher = difflib.SequenceMatcher(None, text.split(), neighbor_text.split())\n",
    "                similarity = matcher.ratio()\n",
    "                max_similarity = max(max_similarity, similarity)\n",
    "    elif isinstance(neighbors, int):\n",
    "        # Handle the case where 'neighbors' is an integer directly\n",
    "        neighbor_index = neighbors\n",
    "        neighbor_text = df.iloc[neighbor_index]['text']\n",
    "        matcher = difflib.SequenceMatcher(None, text.split(), neighbor_text.split())\n",
    "        max_similarity = matcher.ratio()\n",
    "    return max_similarity\n",
    "\n",
    "def f(df_nodes, df_edges):\n",
    "\n",
    "    df = df_nodes\n",
    "\n",
    "    scaler = StandardScaler()\n",
    "\n",
    "    # sentence length normalized\n",
    "    df['sentence_length'] = df['text'].apply(lambda s: len(s.split()))\n",
    "    df['sentence_length'] = scaler.fit_transform(df['sentence_length'].values.reshape(-1, 1))\n",
    "\n",
    "    # speaker hot-one encoding\n",
    "    one_hot_encoded = pd.get_dummies(df['speaker_int'], prefix='speaker')\n",
    "    df = df.drop('speaker_int', axis=1)\n",
    "    df = df.drop('speaker_text', axis=1)\n",
    "    df = pd.concat([df, one_hot_encoded], axis=1)\n",
    "    \n",
    "    # TFIDF\n",
    "    tfidf_vectorizer = TfidfVectorizer()\n",
    "    tfidf_matrix = tfidf_vectorizer.fit_transform(df['text'])\n",
    "    df['min_tfidf'] = tfidf_matrix.min(axis=1).toarray().flatten()\n",
    "    df['min_tfidf'] = scaler.fit_transform(df['min_tfidf'].values.reshape(-1, 1))\n",
    "    \n",
    "    #Text analysis\n",
    "    df['nb_occurences'] = df['text'].apply(lambda x: sum(x.split().count(mot) for mot in ['uh', 'um', 'okay', '<', 'ah', 'oh']))\n",
    "    df['nb_occurences'] = scaler.fit_transform(df['nb_occurences'].values.reshape(-1,1))\n",
    "    \n",
    "    df['nb_words_more_7'] = df['text'].apply(lambda x: sum(len(mot) > 7 and mot.lower() != '<vocalsound>' for mot in x.split()))\n",
    "    df['nb_words_more_7'] = scaler.fit_transform(df['nb_words_more_7'].values.reshape(-1,1))\n",
    "    \n",
    "    # Calcul de la colonne 'neighb'\n",
    "    df_edges_grouped = df_edges.groupby(['transcription', 'start'])['end'].apply(list).reset_index()\n",
    "    df = pd.merge(df, df_edges_grouped, how='left', left_on=['transcription', 'line'], right_on=['transcription', 'start'])\n",
    "    df = df.rename(columns={'end': 'neighb'})\n",
    "\n",
    "    # Calcul de la colonne 'similarities'\n",
    "    df['similarities'] = df.apply(lambda row: calculate_similarity(row['text'], row['neighb'],df), axis=1)\n",
    "    df['similarities'] = scaler.fit_transform(df['similarities'].values.reshape(-1,1))\n",
    "\n",
    "    # Calcul de la colonne 'nb_neighb'\n",
    "    df['nb_neighb'] = df['neighb'].apply(lambda x: len(x) if isinstance(x, list) else 0)\n",
    "    df['nb_neighb'] = scaler.fit_transform(df['nb_neighb'].values.reshape(-1, 1))\n",
    "\n",
    "    df = df.drop(['text','start', 'neighb'], axis=1)\n",
    "                    \n",
    "    return df\n",
    "\n",
    "def g(df):\n",
    "    new_df = pd.DataFrame({\n",
    "        'transcription': df['transcription'],\n",
    "        'start': df['end'],\n",
    "        'end': df['start'],\n",
    "        'type_int': 16 + df['type_int'],\n",
    "        'type_text': df['type_text'] + \"_reverse\"\n",
    "    })\n",
    "    result_df = pd.concat([df, new_df], ignore_index=True)\n",
    "    return result_df\n"
   ]
  },
  {
   "cell_type": "code",
   "execution_count": 3,
   "metadata": {},
   "outputs": [],
   "source": [
    "train_graphs, validation_graphs, test_graphs = aja.get_graphs(f, g, 0.2)"
   ]
  },
  {
   "cell_type": "code",
   "execution_count": 4,
   "metadata": {},
   "outputs": [],
   "source": [
    "class MultiChannelsGCN(torch.nn.Module):\n",
    "    \n",
    "    def __init__(self, channels, input_dim, post_conv_dim, output_dim, identity=False):\n",
    "        super(MultiChannelsGCN, self).__init__()\n",
    "        self.identity = identity\n",
    "        self.channels = channels\n",
    "        self.input_dim = input_dim\n",
    "        self.post_conv_dim = post_conv_dim\n",
    "        self.output_dim = output_dim\n",
    "        self.GCN = nn.ModuleList([GCNConv(input_dim, post_conv_dim) for _ in range(channels)])\n",
    "        if identity:\n",
    "            self.dense = nn.Linear(post_conv_dim * (channels + 1), output_dim)\n",
    "            self.denseID = nn.Linear(input_dim, post_conv_dim)\n",
    "        else:\n",
    "            self.dense = nn.Linear(post_conv_dim * channels, output_dim)\n",
    "\n",
    "    def forward(self, nodes, edges):\n",
    "        X = []\n",
    "        for k in range(self.channels):\n",
    "            if len(edges[k]) == 0:\n",
    "                x = torch.zeros(nodes.shape[0], self.post_conv_dim)\n",
    "            else:\n",
    "                x = F.relu(self.GCN[k](nodes, edges[k]))\n",
    "            X.append(x)\n",
    "        if self.identity:\n",
    "            X.append(F.relu(self.denseID(nodes)))\n",
    "        concat = torch.cat(X, dim=1)\n",
    "        return F.relu(self.dense(concat))"
   ]
  },
  {
   "cell_type": "code",
   "execution_count": 5,
   "metadata": {},
   "outputs": [],
   "source": [
    "# on définie son plus beau modèle\n",
    "\n",
    "class NodeClassifier(torch.nn.Module):\n",
    "    def __init__(self, channels, input_dim):\n",
    "        super(NodeClassifier, self).__init__()\n",
    "        self.threshold = 0.5\n",
    "        self.GCN1 = MultiChannelsGCN(channels, input_dim, 50, 20, identity=True)\n",
    "        self.dropout = nn.Dropout(0.2)  # Couche de dropout \n",
    "        self.dense1 = nn.Linear(20,1)\n",
    "\n",
    "    def forward(self, data):\n",
    "        nodes, edges = data.x, data.edge_index\n",
    "        \n",
    "        x = self.GCN1(nodes, edges)\n",
    "        x = self.dense1(x)\n",
    "        return x\n",
    "\n",
    "    def set_threshold(self, t):\n",
    "        self.threshold = t\n",
    "\n",
    "    def predict(self, graph): #version sans threshold\n",
    "        self.eval()\n",
    "        with torch.no_grad():\n",
    "            logits = self.forward(graph)\n",
    "        return np.array((logits > 0.5).int()).flatten()\n",
    "    \n",
    "    '''def predict(self, graph): #version avec threshold\n",
    "        self.eval()\n",
    "        with torch.no_grad():\n",
    "            logits = self.forward(graph)\n",
    "            predictions = torch.sigmoid(logits)\n",
    "        return np.array((predictions > self.threshold).int()).flatten()'''"
   ]
  },
  {
   "cell_type": "code",
   "execution_count": 6,
   "metadata": {},
   "outputs": [],
   "source": [
    "# Charger l'extension autoreload\n",
    "%load_ext autoreload\n",
    "\n",
    "# Configurer autoreload pour recharger tous les modules avant l'exécution de chaque cellule\n",
    "%autoreload 2"
   ]
  },
  {
   "cell_type": "code",
   "execution_count": 7,
   "metadata": {},
   "outputs": [
    {
     "data": {
      "text/plain": [
       "390"
      ]
     },
     "execution_count": 7,
     "metadata": {},
     "output_type": "execute_result"
    }
   ],
   "source": [
    "N_features = train_graphs['ES2002a'].x.shape[1]\n",
    "N_features"
   ]
  },
  {
   "cell_type": "code",
   "execution_count": 25,
   "metadata": {},
   "outputs": [
    {
     "name": "stdout",
     "output_type": "stream",
     "text": [
      "- Epoch 000 -\n",
      "Loss: 0.7345\n",
      "F1 train: 0.5776575683623384\n",
      "F1 valid: 0.6086114239952805\n",
      "\n",
      "- Epoch 001 -\n",
      "Loss: 0.6662\n",
      "F1 train: 0.5901367179448259\n",
      "F1 valid: 0.6250277948710785\n",
      "\n",
      "- Epoch 002 -\n",
      "Loss: 0.6419\n",
      "F1 train: 0.6041172153556876\n",
      "F1 valid: 0.640160745487118\n",
      "\n",
      "- Epoch 003 -\n",
      "Loss: 0.6145\n",
      "F1 train: 0.6112587377328431\n",
      "F1 valid: 0.6463999814411538\n",
      "\n",
      "- Epoch 004 -\n",
      "Loss: 0.5789\n",
      "F1 train: 0.6247596789562573\n",
      "F1 valid: 0.6586747496283087\n",
      "\n",
      "- Epoch 005 -\n",
      "Loss: 0.5420\n",
      "F1 train: 0.6165525545103792\n",
      "F1 valid: 0.6522405126290153\n",
      "\n"
     ]
    },
    {
     "data": {
      "text/plain": [
       "<All keys matched successfully>"
      ]
     },
     "execution_count": 25,
     "metadata": {},
     "output_type": "execute_result"
    }
   ],
   "source": [
    "# Move the instantiation of the model outside the training loop\n",
    "model = NodeClassifier(32, N_features)\n",
    "#model.set_threshold(0.59)\n",
    "model_name='test'\n",
    "\n",
    "# Move the model and data to GPU if available\n",
    "device = torch.device(\"cuda\" if torch.cuda.is_available() else \"cpu\")\n",
    "model = model.to(device)\n",
    "\n",
    "# Use DataLoader to create batches of data\n",
    "#train_loader = DataLoader(list(train_graphs.values()), batch_size=1, shuffle=True)\n",
    "#N_train = len(train_loader)\n",
    "\n",
    "train_loader = DataLoader(list(train_graphs.values()) + list(validation_graphs.values()), batch_size=1, shuffle=False)\n",
    "N_train = len(train_loader)\n",
    "\n",
    "validation_loader = DataLoader(list(validation_graphs.values()), batch_size=1, shuffle=False)\n",
    "N_validation = len(validation_loader)\n",
    "\n",
    "# Define the loss function and optimizer\n",
    "alpha = 0.2\n",
    "gamma = 15\n",
    "criterion = nn.BCEWithLogitsLoss(pos_weight=torch.tensor((1 - alpha) / alpha), reduction='mean')\n",
    "optimizer = torch.optim.Adam(model.parameters(), lr=0.01)\n",
    "\n",
    "from sklearn.metrics import f1_score\n",
    "\n",
    "# Train the model\n",
    "best_f1_score = 0\n",
    "for epoch in range(6):\n",
    "    print('- Epoch', f'{epoch:03d}', '-')\n",
    "\n",
    "    # training\n",
    "    model.train()\n",
    "    total_loss = 0\n",
    "    for data in train_loader:\n",
    "        data = data.to(device)\n",
    "        optimizer.zero_grad()\n",
    "        output = model(data).squeeze()\n",
    "        loss = criterion(output, data.y.float())\n",
    "        loss.backward()\n",
    "        optimizer.step()\n",
    "        total_loss += loss.item()\n",
    "    average_loss = total_loss / N_train\n",
    "    print('Loss:', f'{average_loss:.4f}')    \n",
    "\n",
    "    # Evaluate the model on the training set\n",
    "\n",
    "    model.eval()\n",
    "    f1_moyen_train = 0\n",
    "    for data in train_loader:\n",
    "        data = data.to(device)\n",
    "        y_pred = model.predict(data)\n",
    "        y_true = data.y.cpu().numpy()\n",
    "        f1 = f1_score(y_true, y_pred)\n",
    "        f1_moyen_train += f1\n",
    "    f1_moyen_train /= N_train\n",
    "    print('F1 train:', f1_moyen_train)\n",
    "\n",
    "    # Evaluate the model on the validation set\n",
    "    model.eval()\n",
    "    f1_moyen_valid = 0\n",
    "    for data in validation_loader:\n",
    "        data = data.to(device)\n",
    "        y_pred = model.predict(data)\n",
    "        y_true = data.y.cpu().numpy()\n",
    "        f1 = f1_score(y_true, y_pred)\n",
    "        f1_moyen_valid += f1\n",
    "    f1_moyen_valid /= N_validation\n",
    "    print('F1 valid:', f1_moyen_valid)\n",
    "\n",
    "    # callbacks ou autre\n",
    "    if f1_moyen_valid > best_f1_score:\n",
    "        torch.save(model.state_dict(), \"training_states/\" + model_name + \"-best.pth\")\n",
    "    else:\n",
    "        optimizer.param_groups[0]['lr'] /= 2\n",
    "        print('Learning rate reduced to:', optimizer.param_groups[0]['lr'])\n",
    "    print('')\n",
    "\n",
    "model.load_state_dict(torch.load(\"training_states/\" + model_name + \"-best.pth\"))"
   ]
  },
  {
   "cell_type": "code",
   "execution_count": 26,
   "metadata": {},
   "outputs": [
    {
     "data": {
      "image/png": "[encoded data removed]",
      "text/plain": [
       "<Figure size 640x480 with 1 Axes>"
      ]
     },
     "metadata": {},
     "output_type": "display_data"
    }
   ],
   "source": [
    "T = np.linspace(0.4,0.6,10)\n",
    "f1s = []\n",
    "for t in T:\n",
    "    model.set_threshold(t)\n",
    "    f1_valid = aja.f1_score_moyen(model, validation_graphs)\n",
    "    f1s.append(f1_valid)\n",
    "\n",
    "plt.plot(T, f1s)\n",
    "plt.xlabel('Threshold')\n",
    "plt.ylabel('F1-score')\n",
    "plt.show()"
   ]
  },
  {
   "cell_type": "code",
   "execution_count": 27,
   "metadata": {},
   "outputs": [],
   "source": [
    "# quand on est content on fait une submission !\n",
    "#model.set_threshold(0.59) #on choisit le threshold adapté\n",
    "aja.make_test_csv_submission(model, test_graphs, 'ajout_alice')"
   ]
  },
  {
   "cell_type": "code",
   "execution_count": null,
   "metadata": {},
   "outputs": [],
   "source": []
  },
  {
   "cell_type": "code",
   "execution_count": null,
   "metadata": {},
   "outputs": [],
   "source": []
  }
 ],
 "metadata": {
  "kernelspec": {
   "display_name": "base",
   "language": "python",
   "name": "python3"
  },
  "language_info": {
   "codemirror_mode": {
    "name": "ipython",
    "version": 3
   },
   "file_extension": ".py",
   "mimetype": "text/x-python",
   "name": "python",
   "nbconvert_exporter": "python",
   "pygments_lexer": "ipython3",
   "version": "3.11.5"
  }
 },
 "nbformat": 4,
 "nbformat_minor": 2
}
