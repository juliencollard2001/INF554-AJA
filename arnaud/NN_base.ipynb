{
 "cells": [
  {
   "cell_type": "code",
   "execution_count": 39,
   "metadata": {},
   "outputs": [],
   "source": [
    "import json\n",
    "from pathlib import Path\n",
    "import numpy as np\n",
    "import matplotlib.pyplot as plt\n",
    "from tqdm import tqdm \n",
    "import torch\n",
    "from torch_geometric.data import Data\n",
    "import torch.nn as nn\n",
    "from torch_geometric.nn import GCNConv\n",
    "import torch.nn.functional as F\n",
    "from torch_geometric.loader import DataLoader\n",
    "import pandas as pd\n",
    "\n",
    "import sys\n",
    "sys.path.append('../AJA')\n",
    "import AJA as aja"
   ]
  },
  {
   "cell_type": "code",
   "execution_count": 55,
   "metadata": {},
   "outputs": [],
   "source": [
    "from sklearn.preprocessing import StandardScaler\n",
    "\n",
    "\n",
    "def f(df_nodes, df_edges):\n",
    "\n",
    "    df = df_nodes\n",
    "\n",
    "    scaler = StandardScaler()\n",
    "\n",
    "    # sentence length normalized\n",
    "    df['sentence_length'] = df['text'].apply(lambda s: len(s.split()))\n",
    "    df['sentence_length'] = scaler.fit_transform(df['sentence_length'].values.reshape(-1, 1))\n",
    "\n",
    "    # speaker hot-one encoding\n",
    "    one_hot_encoded = pd.get_dummies(df['speaker_int'], prefix='speaker')\n",
    "    df = df.drop('speaker_int', axis=1)\n",
    "    df = df.drop('speaker_text', axis=1)\n",
    "    df = pd.concat([df, one_hot_encoded], axis=1)\n",
    "\n",
    "    # number of k-lenght words in a sentence:\n",
    "    for k in range(8,15):\n",
    "        df[f'nb_long_words_{k}'] = df['text'].apply(lambda x: sum(len(word) >= k for word in x.split(' ')))\n",
    "\n",
    "    return df\n",
    "\n",
    "def g(df):\n",
    "    new_df = pd.DataFrame({\n",
    "        'transcription': df['transcription'],\n",
    "        'start': df['end'],\n",
    "        'end': df['start'],\n",
    "        'type_int': 16 + df['type_int'],\n",
    "        'type_text': df['type_text'] + \"_reverse\"\n",
    "    })\n",
    "    result_df = pd.concat([df, new_df], ignore_index=True)\n",
    "    return result_df\n"
   ]
  },
  {
   "cell_type": "code",
   "execution_count": 56,
   "metadata": {},
   "outputs": [],
   "source": [
    "train_graphs, validation_graphs, test_graphs = aja.get_graphs(f, g, 0.3)"
   ]
  },
  {
   "cell_type": "code",
   "execution_count": 57,
   "metadata": {},
   "outputs": [
    {
     "data": {
      "text/plain": [
       "Data(x=[714, 396], edge_index=[32], y=[714])"
      ]
     },
     "execution_count": 57,
     "metadata": {},
     "output_type": "execute_result"
    }
   ],
   "source": [
    "# on check la forme des input\n",
    "train_graphs['TS3009a']"
   ]
  },
  {
   "cell_type": "code",
   "execution_count": 45,
   "metadata": {},
   "outputs": [],
   "source": [
    "class MultiChannelsGCN(torch.nn.Module):\n",
    "    \n",
    "    def __init__(self, channels, input_dim, post_conv_dim, output_dim, identity=False):\n",
    "        super(MultiChannelsGCN, self).__init__()\n",
    "        self.identity = identity\n",
    "        self.channels = channels\n",
    "        self.input_dim = input_dim\n",
    "        self.post_conv_dim = post_conv_dim\n",
    "        self.output_dim = output_dim\n",
    "        self.GCN = nn.ModuleList([GCNConv(input_dim, post_conv_dim) for _ in range(channels)])\n",
    "        if identity:\n",
    "            self.dense = nn.Linear(post_conv_dim * (channels + 1), output_dim)\n",
    "            self.denseID = nn.Linear(input_dim, post_conv_dim)\n",
    "        else:\n",
    "            self.dense = nn.Linear(post_conv_dim * channels, output_dim)\n",
    "\n",
    "    def forward(self, nodes, edges):\n",
    "        X = []\n",
    "        for k in range(self.channels):\n",
    "            if len(edges[k]) == 0:\n",
    "                x = torch.zeros(nodes.shape[0], self.post_conv_dim)\n",
    "            else:\n",
    "                x = F.relu(self.GCN[k](nodes, edges[k]))\n",
    "            X.append(x)\n",
    "        if self.identity:\n",
    "            X.append(F.relu(self.denseID(nodes)))\n",
    "        concat = torch.cat(X, dim=1)\n",
    "        return F.relu(self.dense(concat))"
   ]
  },
  {
   "cell_type": "code",
   "execution_count": 46,
   "metadata": {},
   "outputs": [],
   "source": [
    "# on définie son plus beau modèle\n",
    "\n",
    "class NodeClassifier(torch.nn.Module):\n",
    "    def __init__(self, channels, input_dim):\n",
    "        super(NodeClassifier, self).__init__()\n",
    "        self.threshold = 0.5\n",
    "        self.GCN1 = MultiChannelsGCN(channels, input_dim, 50, 20, identity=True)\n",
    "        self.dense1 = nn.Linear(20,1)\n",
    "\n",
    "    def forward(self, data):\n",
    "        nodes, edges = data.x, data.edge_index\n",
    "        \n",
    "        x = self.GCN1(nodes, edges)\n",
    "        x = self.dense1(x)\n",
    "        return x\n",
    "\n",
    "    def set_threshold(self, t):\n",
    "        self.threshold = t\n",
    "\n",
    "    def predict(self, graph):\n",
    "        self.eval()\n",
    "        with torch.no_grad():\n",
    "            logits = self.forward(graph)\n",
    "            predictions = torch.sigmoid(logits)\n",
    "        return np.array((predictions > self.threshold).int()).flatten()"
   ]
  },
  {
   "cell_type": "code",
   "execution_count": 47,
   "metadata": {},
   "outputs": [
    {
     "name": "stdout",
     "output_type": "stream",
     "text": [
      "The autoreload extension is already loaded. To reload it, use:\n",
      "  %reload_ext autoreload\n"
     ]
    }
   ],
   "source": [
    "# Charger l'extension autoreload\n",
    "%load_ext autoreload\n",
    "\n",
    "# Configurer autoreload pour recharger tous les modules avant l'exécution de chaque cellule\n",
    "%autoreload 2"
   ]
  },
  {
   "cell_type": "code",
   "execution_count": 49,
   "metadata": {},
   "outputs": [
    {
     "data": {
      "text/plain": [
       "Data(x=[396, 404], edge_index=[32], y=[396])"
      ]
     },
     "execution_count": 49,
     "metadata": {},
     "output_type": "execute_result"
    }
   ],
   "source": [
    "train_graphs['ES2002a']"
   ]
  },
  {
   "cell_type": "code",
   "execution_count": 58,
   "metadata": {},
   "outputs": [
    {
     "name": "stdout",
     "output_type": "stream",
     "text": [
      "- Epoch 000 -\n",
      "Loss: 51.0597\n",
      "F1 train: 0.5755222625664033\n",
      "F1 valid: 0.5899485356091735\n",
      "\n",
      "- Epoch 001 -\n",
      "Loss: 46.2447\n",
      "F1 train: 0.5867336671948775\n",
      "F1 valid: 0.5934755501521468\n",
      "\n",
      "- Epoch 002 -\n",
      "Loss: 44.5649\n",
      "F1 train: 0.6015836861878993\n",
      "F1 valid: 0.5969048766870675\n",
      "\n",
      "- Epoch 003 -\n",
      "Loss: 42.5261\n",
      "F1 train: 0.6220273703894036\n",
      "F1 valid: 0.5928287680740226\n",
      "\n",
      "- Epoch 004 -\n",
      "Loss: 39.8276\n",
      "F1 train: 0.6398668158282519\n",
      "F1 valid: 0.5860932942710867\n",
      "\n"
     ]
    }
   ],
   "source": [
    "# on instancie le modèle\n",
    "model = NodeClassifier(32,396)\n",
    "\n",
    "# on définie la fonction de perte et l'optimiseur\n",
    "#criterion = torch.nn.CrossEntropyLoss()\n",
    "optimizer = torch.optim.Adam(model.parameters(), lr=0.01)\n",
    "\n",
    "alpha = 0.2  # Paramètre de pondération (ajustez selon votre cas)\n",
    "gamma = 10  # Paramètre de focalité (ajustez selon votre cas)\n",
    "criterion = nn.BCEWithLogitsLoss(pos_weight=torch.tensor((1 - alpha) / alpha), reduction='mean')\n",
    "\n",
    "\n",
    "model.set_threshold(0.59)\n",
    "\n",
    "# on entraine !\n",
    "\n",
    "for epoch in range(5):\n",
    "    loss = aja.train(model, train_graphs,optimizer,criterion)\n",
    "    #loss = aja.train(model, {**train_graphs, **validation_graphs}, optimizer, criterion)\n",
    "    print('- Epoch', f'{epoch:03d}', '-')\n",
    "    print('Loss:',  f'{loss:.4f}')\n",
    "    f1_train = aja.f1_score_moyen(model, train_graphs)\n",
    "    f1_valid = aja.f1_score_moyen(model, validation_graphs)\n",
    "    print('F1 train:', f1_train)\n",
    "    print('F1 valid:', f1_valid)\n",
    "    torch.save(model.state_dict(), \"training_states/\"+str(epoch) + \".pth\")\n",
    "    print('')"
   ]
  },
  {
   "cell_type": "code",
   "execution_count": 59,
   "metadata": {},
   "outputs": [
    {
     "data": {
      "image/png": "[encoded data removed]",
      "text/plain": [
       "<Figure size 640x480 with 1 Axes>"
      ]
     },
     "metadata": {},
     "output_type": "display_data"
    }
   ],
   "source": [
    "# on peut revenir à un modèle intermédiaire pour éviter l'overfitting\n",
    "epoch_opt = 3\n",
    "model.load_state_dict(torch.load(\"training_states/\"+str(epoch_opt)+\".pth\"))\n",
    "\n",
    "T = np.linspace(0.5,0.7,10)\n",
    "f1s = []\n",
    "for t in T:\n",
    "    model.set_threshold(t)\n",
    "    f1_valid = aja.f1_score_moyen(model, validation_graphs)\n",
    "    f1s.append(f1_valid)\n",
    "\n",
    "plt.plot(T, f1s)\n",
    "plt.xlabel('Threshold')\n",
    "plt.ylabel('F1-score')\n",
    "plt.show()"
   ]
  },
  {
   "cell_type": "code",
   "execution_count": null,
   "metadata": {},
   "outputs": [],
   "source": [
    "# quand on est content on fait une submission !\n",
    "model.set_threshold(0.655) #on choisit le threshold adapté\n",
    "aja.make_test_csv_submission(model, test_graphs, 'avec_toutes_les_donnees')"
   ]
  },
  {
   "cell_type": "code",
   "execution_count": null,
   "metadata": {},
   "outputs": [],
   "source": []
  }
 ],
 "metadata": {
  "kernelspec": {
   "display_name": "base",
   "language": "python",
   "name": "python3"
  },
  "language_info": {
   "codemirror_mode": {
    "name": "ipython",
    "version": 3
   },
   "file_extension": ".py",
   "mimetype": "text/x-python",
   "name": "python",
   "nbconvert_exporter": "python",
   "pygments_lexer": "ipython3",
   "version": "3.10.11"
  }
 },
 "nbformat": 4,
 "nbformat_minor": 2
}
