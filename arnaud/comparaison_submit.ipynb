{
 "cells": [
  {
   "cell_type": "code",
   "execution_count": 2,
   "metadata": {},
   "outputs": [
    {
     "name": "stdout",
     "output_type": "stream",
     "text": [
      "Score de similarité : 86.78205376136144%\n"
     ]
    }
   ],
   "source": [
    "import csv\n",
    "\n",
    "# Fonction pour charger un fichier CSV\n",
    "def charger_csv(nom_fichier):\n",
    "    contenu = []\n",
    "    with open(nom_fichier, 'r', newline='') as f:\n",
    "        lecteur_csv = csv.DictReader(f)\n",
    "        for ligne in lecteur_csv:\n",
    "            contenu.append(ligne)\n",
    "    return contenu\n",
    "\n",
    "# Fonction pour comparer deux fichiers CSV\n",
    "def comparer_csv(fichier1, fichier2):\n",
    "    contenu1 = charger_csv(fichier1)\n",
    "    contenu2 = charger_csv(fichier2)\n",
    "\n",
    "    differences = 0\n",
    "\n",
    "    # Comparer les labels et compter les différences\n",
    "    for ligne1, ligne2 in zip(contenu1, contenu2):\n",
    "        if ligne1['target_feature'] != ligne2['target_feature']:\n",
    "            differences += 1\n",
    "\n",
    "    total_lignes = len(contenu1)\n",
    "    pourcentage_similarite = ((total_lignes - differences) / total_lignes) * 100\n",
    "\n",
    "    return pourcentage_similarite\n",
    "# Spécifiez les noms de vos fichiers JSON\n",
    "fichier1 = '..\\julien\\submission-avec_toutes_les_donnees.csv'\n",
    "fichier2 = '..\\julien\\submission-bagging.csv'\n",
    "\n",
    "# Appel de la fonction de comparaison\n",
    "score_similarite = comparer_csv(fichier1, fichier2)\n",
    "\n",
    "# Affichage du score de similarité\n",
    "print(f\"Score de similarité : {score_similarite}%\")\n"
   ]
  }
 ],
 "metadata": {
  "kernelspec": {
   "display_name": "Python 3",
   "language": "python",
   "name": "python3"
  },
  "language_info": {
   "codemirror_mode": {
    "name": "ipython",
    "version": 3
   },
   "file_extension": ".py",
   "mimetype": "text/x-python",
   "name": "python",
   "nbconvert_exporter": "python",
   "pygments_lexer": "ipython3",
   "version": "3.10.11"
  }
 },
 "nbformat": 4,
 "nbformat_minor": 2
}
