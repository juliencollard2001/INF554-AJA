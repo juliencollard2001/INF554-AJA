{
 "cells": [
  {
   "cell_type": "code",
   "execution_count": 4,
   "metadata": {},
   "outputs": [
    {
     "name": "stdout",
     "output_type": "stream",
     "text": [
      "[0.55594, 0.56043, 0.57429, 0.5832, 0.59237, 0.59243, 0.59386, 0.59438, 0.59659, 0.59702, 0.59751, 0.59797, 0.59879, 0.5988, 0.60078, 0.60117, 0.60168, 0.60184, 0.60228, 0.6025, 0.60268, 0.60305, 0.60333, 0.60334, 0.60377, 0.603771, 0.60479]\n"
     ]
    }
   ],
   "source": [
    "import os\n",
    "import re\n",
    "import pandas as pd\n",
    "import numpy as np\n",
    "\n",
    "# Chemin vers le dossier contenant les fichiers de soumission\n",
    "submission_folder = 'past-sub/'\n",
    "\n",
    "# Obtenir la liste des fichiers de soumission dans le dossier\n",
    "submission_files = [f for f in os.listdir(submission_folder) if f.startswith('submission-')]\n",
    "\n",
    "# Extraire les f1_scores à partir des noms de fichiers\n",
    "f1_scores = [float(re.search(r'\\d+\\.\\d+', file).group()) for file in submission_files]\n",
    "\n",
    "# Charger les soumissions et les poids associés\n",
    "submissions = [pd.read_csv(os.path.join(submission_folder, file)) for file in submission_files]\n",
    "weights = f1_scores\n",
    "\n",
    "# Fonction pour normaliser les poids\n",
    "def normalize_weights(weights):\n",
    "    total_weight = sum(weights)\n",
    "    return [weight / total_weight for weight in weights]\n",
    "\n",
    "# Normaliser les poids\n",
    "normalized_weights = normalize_weights(weights)\n",
    "\n",
    "# Agréger les prédictions pondérées\n",
    "aggregated_predictions = np.zeros_like(submissions[0]['target_feature'])\n",
    "for i, submission in enumerate(submissions):\n",
    "    aggregated_predictions += submission['target_feature'] * normalized_weights[i]\n",
    "\n",
    "# Arrondir les prédictions agrégées à la valeur la plus proche (0 ou 1)\n",
    "aggregated_predictions = np.round(aggregated_predictions).astype(int)\n",
    "\n",
    "# Créer une nouvelle soumission\n",
    "submission = pd.DataFrame({'id': submissions[0]['id'], 'target_feature': aggregated_predictions})\n",
    "\n",
    "# Enregistrer la nouvelle soumission au format CSV\n",
    "submission.to_csv('submission_aggregée.csv', index=False)\n"
   ]
  },
  {
   "cell_type": "code",
   "execution_count": null,
   "metadata": {},
   "outputs": [],
   "source": []
  }
 ],
 "metadata": {
  "kernelspec": {
   "display_name": "Python 3",
   "language": "python",
   "name": "python3"
  },
  "language_info": {
   "codemirror_mode": {
    "name": "ipython",
    "version": 3
   },
   "file_extension": ".py",
   "mimetype": "text/x-python",
   "name": "python",
   "nbconvert_exporter": "python",
   "pygments_lexer": "ipython3",
   "version": "3.10.11"
  }
 },
 "nbformat": 4,
 "nbformat_minor": 2
}
