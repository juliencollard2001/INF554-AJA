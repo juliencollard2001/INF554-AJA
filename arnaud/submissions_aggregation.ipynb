{
 "cells": [
  {
   "cell_type": "code",
   "execution_count": 1,
   "metadata": {},
   "outputs": [
    {
     "ename": "NameError",
     "evalue": "name 'np' is not defined",
     "output_type": "error",
     "traceback": [
      "\u001b[1;31m---------------------------------------------------------------------------\u001b[0m",
      "\u001b[1;31mNameError\u001b[0m                                 Traceback (most recent call last)",
      "\u001b[1;32mc:\\Users\\arnau\\OneDrive\\Documents\\Scolarité X\\3A\\INF554-AJA\\INF554-AJA\\arnaud\\submissions_aggregation.ipynb Cell 1\u001b[0m line \u001b[0;36m2\n\u001b[0;32m     <a href='vscode-notebook-cell:/c%3A/Users/arnau/OneDrive/Documents/Scolarit%C3%A9%20X/3A/INF554-AJA/INF554-AJA/arnaud/submissions_aggregation.ipynb#W0sZmlsZQ%3D%3D?line=23'>24</a>\u001b[0m normalized_weights \u001b[39m=\u001b[39m normalize_weights(weights)\n\u001b[0;32m     <a href='vscode-notebook-cell:/c%3A/Users/arnau/OneDrive/Documents/Scolarit%C3%A9%20X/3A/INF554-AJA/INF554-AJA/arnaud/submissions_aggregation.ipynb#W0sZmlsZQ%3D%3D?line=25'>26</a>\u001b[0m \u001b[39m# Agréger les prédictions pondérées\u001b[39;00m\n\u001b[1;32m---> <a href='vscode-notebook-cell:/c%3A/Users/arnau/OneDrive/Documents/Scolarit%C3%A9%20X/3A/INF554-AJA/INF554-AJA/arnaud/submissions_aggregation.ipynb#W0sZmlsZQ%3D%3D?line=26'>27</a>\u001b[0m aggregated_predictions \u001b[39m=\u001b[39m np\u001b[39m.\u001b[39mzeros_like(submissions[\u001b[39m0\u001b[39m][\u001b[39m'\u001b[39m\u001b[39mtarget_feature\u001b[39m\u001b[39m'\u001b[39m])\n\u001b[0;32m     <a href='vscode-notebook-cell:/c%3A/Users/arnau/OneDrive/Documents/Scolarit%C3%A9%20X/3A/INF554-AJA/INF554-AJA/arnaud/submissions_aggregation.ipynb#W0sZmlsZQ%3D%3D?line=27'>28</a>\u001b[0m \u001b[39mfor\u001b[39;00m i, submission \u001b[39min\u001b[39;00m \u001b[39menumerate\u001b[39m(submissions):\n\u001b[0;32m     <a href='vscode-notebook-cell:/c%3A/Users/arnau/OneDrive/Documents/Scolarit%C3%A9%20X/3A/INF554-AJA/INF554-AJA/arnaud/submissions_aggregation.ipynb#W0sZmlsZQ%3D%3D?line=28'>29</a>\u001b[0m     aggregated_predictions \u001b[39m+\u001b[39m\u001b[39m=\u001b[39m submission[\u001b[39m'\u001b[39m\u001b[39mtarget_feature\u001b[39m\u001b[39m'\u001b[39m] \u001b[39m*\u001b[39m normalized_weights[i]\n",
      "\u001b[1;31mNameError\u001b[0m: name 'np' is not defined"
     ]
    }
   ],
   "source": [
    "import os\n",
    "import re\n",
    "import pandas as pd\n",
    "import numpy as np\n",
    "\n",
    "# Chemin vers le dossier contenant les fichiers de soumission\n",
    "submission_folder = 'past-sub/'\n",
    "\n",
    "# Obtenir la liste des fichiers de soumission dans le dossier\n",
    "submission_files = [f for f in os.listdir(submission_folder) if f.startswith('submission-')]\n",
    "\n",
    "# Extraire les f1_scores à partir des noms de fichiers\n",
    "f1_scores = [float(re.search(r'\\d+\\.\\d+', file).group()) for file in submission_files]\n",
    "\n",
    "# Charger les soumissions et les poids associés\n",
    "submissions = [pd.read_csv(os.path.join(submission_folder, file)) for file in submission_files]\n",
    "weights = f1_scores\n",
    "\n",
    "# Fonction pour normaliser les poids\n",
    "def normalize_weights(weights):\n",
    "    total_weight = sum(weights)\n",
    "    return [weight / total_weight for weight in weights]\n",
    "\n",
    "# Normaliser les poids\n",
    "normalized_weights = normalize_weights(weights)\n",
    "\n",
    "# Agréger les prédictions pondérées\n",
    "aggregated_predictions = np.zeros_like(submissions[0]['target_feature'])\n",
    "for i, submission in enumerate(submissions):\n",
    "    aggregated_predictions += submission['target_feature'] * normalized_weights[i]\n",
    "\n",
    "# Arrondir les prédictions agrégées à la valeur la plus proche (0 ou 1)\n",
    "aggregated_predictions = np.round(aggregated_predictions).astype(int)\n",
    "\n",
    "# Créer une nouvelle soumission\n",
    "submission = pd.DataFrame({'id': submissions[0]['id'], 'target_feature': aggregated_predictions})\n",
    "\n",
    "# Enregistrer la nouvelle soumission au format CSV\n",
    "submission.to_csv('submission_aggregée', index=False)\n"
   ]
  },
  {
   "cell_type": "code",
   "execution_count": null,
   "metadata": {},
   "outputs": [],
   "source": []
  }
 ],
 "metadata": {
  "kernelspec": {
   "display_name": "Python 3",
   "language": "python",
   "name": "python3"
  },
  "language_info": {
   "codemirror_mode": {
    "name": "ipython",
    "version": 3
   },
   "file_extension": ".py",
   "mimetype": "text/x-python",
   "name": "python",
   "nbconvert_exporter": "python",
   "pygments_lexer": "ipython3",
   "version": "3.10.11"
  }
 },
 "nbformat": 4,
 "nbformat_minor": 2
}
