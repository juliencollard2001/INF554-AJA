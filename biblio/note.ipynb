{
 "cells": [
  {
   "cell_type": "markdown",
   "metadata": {},
   "source": [
    "## Extractive summarization techniques"
   ]
  },
  {
   "cell_type": "markdown",
   "metadata": {},
   "source": [
    "Features selection:\n",
    "- word-based features\n",
    "- sentence-based features\n",
    "\n",
    "Features type:\n",
    "- sentence position\n",
    "- term frequency-inversed document frequency (TF-ISF) :\n",
    "    - ISF score measure the degree of importance of a word in all sentences: 0 if a word appears in all sentences and big if a word appears in a few sentences\n",
    "    - TF score represents the frequency of words in the entire document\n",
    "    - This method assumes that the words with high frequency, but appeared in very few sentences, have greater TF-ISF value\n",
    "- named entity : nb of named entity in a sentence (people, objects, geography, time, organization)\n",
    "- numerical information\n",
    "- sentence lenght\n",
    "- number of nouns and verbs"
   ]
  },
  {
   "cell_type": "markdown",
   "metadata": {},
   "source": [
    "Methods:\n",
    "- LSA : semantic analysis\n",
    "- LexRank\n",
    "- Logistic\n",
    "- Neural Network\n",
    "- SVM\n",
    "- Bayes"
   ]
  }
 ],
 "metadata": {
  "language_info": {
   "name": "python"
  }
 },
 "nbformat": 4,
 "nbformat_minor": 2
}
