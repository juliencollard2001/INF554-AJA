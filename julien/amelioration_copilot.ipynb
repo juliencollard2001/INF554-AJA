{
 "cells": [
  {
   "cell_type": "code",
   "execution_count": 38,
   "metadata": {},
   "outputs": [],
   "source": [
    "import json\n",
    "from pathlib import Path\n",
    "import numpy as np\n",
    "import matplotlib.pyplot as plt\n",
    "from tqdm import tqdm \n",
    "import torch\n",
    "from torch_geometric.data import Data\n",
    "import torch.nn as nn\n",
    "from torch_geometric.nn import GCNConv\n",
    "import torch.nn.functional as F\n",
    "from torch_geometric.loader import DataLoader\n",
    "import pandas as pd\n",
    "\n",
    "import sys\n",
    "sys.path.append('../AJA')\n",
    "import AJA as aja"
   ]
  },
  {
   "cell_type": "code",
   "execution_count": 39,
   "metadata": {},
   "outputs": [],
   "source": [
    "from sklearn.preprocessing import StandardScaler\n",
    "\n",
    "\n",
    "def f(df_nodes, df_edges):\n",
    "\n",
    "    df = df_nodes\n",
    "\n",
    "    scaler = StandardScaler()\n",
    "\n",
    "    # sentence length normalized\n",
    "    df['sentence_length'] = df['text'].apply(lambda s: len(s.split()))\n",
    "    df['sentence_length'] = scaler.fit_transform(df['sentence_length'].values.reshape(-1, 1))\n",
    "\n",
    "    # speaker hot-one encoding\n",
    "    one_hot_encoded = pd.get_dummies(df['speaker_int'], prefix='speaker')\n",
    "    df = df.drop('speaker_int', axis=1)\n",
    "    df = df.drop('speaker_text', axis=1)\n",
    "    df = pd.concat([df, one_hot_encoded], axis=1)\n",
    "    return df\n",
    "\n",
    "def g(df):\n",
    "    new_df = pd.DataFrame({\n",
    "        'transcription': df['transcription'],\n",
    "        'start': df['end'],\n",
    "        'end': df['start'],\n",
    "        'type_int': 16 + df['type_int'],\n",
    "        'type_text': df['type_text'] + \"_reverse\"\n",
    "    })\n",
    "    result_df = pd.concat([df, new_df], ignore_index=True)\n",
    "    return result_df\n"
   ]
  },
  {
   "cell_type": "code",
   "execution_count": 40,
   "metadata": {},
   "outputs": [],
   "source": [
    "train_graphs, validation_graphs, test_graphs = aja.get_graphs(f, g, 0.3)"
   ]
  },
  {
   "cell_type": "code",
   "execution_count": 5,
   "metadata": {},
   "outputs": [],
   "source": [
    "import pickle\n",
    "\n",
    "# Save train_graphs\n",
    "with open('pickle/train_graphs.pkl', 'wb') as f:\n",
    "    pickle.dump(train_graphs, f)\n",
    "\n",
    "# Save validation_graphs\n",
    "with open('pickle/validation_graphs.pkl', 'wb') as f:\n",
    "    pickle.dump(validation_graphs, f)\n",
    "\n",
    "# Save test_graphs\n",
    "with open('pickle/test_graphs.pkl', 'wb') as f:\n",
    "    pickle.dump(test_graphs, f)\n"
   ]
  },
  {
   "cell_type": "code",
   "execution_count": 13,
   "metadata": {},
   "outputs": [],
   "source": [
    "import pickle\n",
    "\n",
    "# Load train_graphs\n",
    "with open('pickle/train_graphs.pkl', 'rb') as f:\n",
    "    train_graphs = pickle.load(f)\n",
    "\n",
    "# Load validation_graphs\n",
    "with open('pickle/validation_graphs.pkl', 'rb') as f:\n",
    "    validation_graphs = pickle.load(f)\n",
    "\n",
    "# Load test_graphs\n",
    "with open('pickle/test_graphs.pkl', 'rb') as f:\n",
    "    test_graphs = pickle.load(f)\n"
   ]
  },
  {
   "cell_type": "code",
   "execution_count": 14,
   "metadata": {},
   "outputs": [
    {
     "data": {
      "text/plain": [
       "Data(x=[897, 389], edge_index=[32], y=[897])"
      ]
     },
     "execution_count": 14,
     "metadata": {},
     "output_type": "execute_result"
    }
   ],
   "source": [
    "# on check la forme des input\n",
    "train_graphs['ES2002b']"
   ]
  },
  {
   "cell_type": "code",
   "execution_count": 15,
   "metadata": {},
   "outputs": [],
   "source": [
    "class MultiChannelsGCN(torch.nn.Module):\n",
    "    \n",
    "    def __init__(self, channels, input_dim, post_conv_dim, output_dim, identity=False):\n",
    "        super(MultiChannelsGCN, self).__init__()\n",
    "        self.identity = identity\n",
    "        self.channels = channels\n",
    "        self.input_dim = input_dim\n",
    "        self.post_conv_dim = post_conv_dim\n",
    "        self.output_dim = output_dim\n",
    "        self.GCN = nn.ModuleList([GCNConv(input_dim, post_conv_dim) for _ in range(channels)])\n",
    "        if identity:\n",
    "            self.dense = nn.Linear(post_conv_dim * (channels + 1), output_dim)\n",
    "            self.denseID = nn.Linear(input_dim, post_conv_dim)\n",
    "        else:\n",
    "            self.dense = nn.Linear(post_conv_dim * channels, output_dim)\n",
    "\n",
    "    def forward(self, nodes, edges):\n",
    "        X = []\n",
    "        for k in range(self.channels):\n",
    "            if len(edges[k]) == 0:\n",
    "                x = torch.zeros(nodes.shape[0], self.post_conv_dim)\n",
    "            else:\n",
    "                x = F.relu(self.GCN[k](nodes, edges[k]))\n",
    "            X.append(x)\n",
    "        if self.identity:\n",
    "            X.append(F.relu(self.denseID(nodes)))\n",
    "        concat = torch.cat(X, dim=1)\n",
    "        return F.relu(self.dense(concat))"
   ]
  },
  {
   "cell_type": "code",
   "execution_count": 16,
   "metadata": {},
   "outputs": [],
   "source": [
    "# on définie son plus beau modèle\n",
    "\n",
    "class NodeClassifier(torch.nn.Module):\n",
    "    def __init__(self, channels, input_dim):\n",
    "        super(NodeClassifier, self).__init__()\n",
    "        self.threshold = 0.5\n",
    "        self.GCN1 = MultiChannelsGCN(channels, input_dim, 50, 20, identity=True)\n",
    "        self.dense1 = nn.Linear(20,1)\n",
    "\n",
    "    def forward(self, data):\n",
    "        nodes, edges = data.x, data.edge_index\n",
    "        x = self.GCN1(nodes, edges)\n",
    "        x = self.dense1(x)\n",
    "        return x\n",
    "\n",
    "    def set_threshold(self, t):\n",
    "        self.threshold = t\n",
    "\n",
    "    def predict(self, graph):\n",
    "        self.eval()\n",
    "        with torch.no_grad():\n",
    "            logits = self.forward(graph)\n",
    "            predictions = torch.sigmoid(logits)\n",
    "        return np.array((predictions > self.threshold).int()).flatten()"
   ]
  },
  {
   "cell_type": "code",
   "execution_count": 17,
   "metadata": {},
   "outputs": [],
   "source": [
    "# Charger l'extension autoreload\n",
    "%load_ext autoreload\n",
    "\n",
    "# Configurer autoreload pour recharger tous les modules avant l'exécution de chaque cellule\n",
    "%autoreload 2"
   ]
  },
  {
   "cell_type": "code",
   "execution_count": 18,
   "metadata": {},
   "outputs": [
    {
     "data": {
      "text/plain": [
       "{'ES2008d': Data(x=[1364, 389], edge_index=[32], y=[1364]),\n",
       " 'ES2010d': Data(x=[563, 389], edge_index=[32], y=[563]),\n",
       " 'IS1002d': Data(x=[497, 389], edge_index=[32], y=[497]),\n",
       " 'IS1007a': Data(x=[336, 389], edge_index=[32], y=[336]),\n",
       " 'ES2005b': Data(x=[815, 389], edge_index=[32], y=[815]),\n",
       " 'IS1004a': Data(x=[196, 389], edge_index=[32], y=[196]),\n",
       " 'ES2008c': Data(x=[860, 389], edge_index=[32], y=[860]),\n",
       " 'IS1005b': Data(x=[614, 389], edge_index=[32], y=[614]),\n",
       " 'ES2010c': Data(x=[722, 389], edge_index=[32], y=[722]),\n",
       " 'ES2016d': Data(x=[647, 389], edge_index=[32], y=[647]),\n",
       " 'ES2007a': Data(x=[415, 389], edge_index=[32], y=[415]),\n",
       " 'TS3010d': Data(x=[649, 389], edge_index=[32], y=[649]),\n",
       " 'ES2005d': Data(x=[669, 389], edge_index=[32], y=[669]),\n",
       " 'ES2002b': Data(x=[897, 389], edge_index=[32], y=[897]),\n",
       " 'IS1005c': Data(x=[572, 389], edge_index=[32], y=[572]),\n",
       " 'IS1007d': Data(x=[717, 389], edge_index=[32], y=[717]),\n",
       " 'IS1006d': Data(x=[1148, 389], edge_index=[32], y=[1148]),\n",
       " 'ES2016b': Data(x=[713, 389], edge_index=[32], y=[713]),\n",
       " 'ES2007d': Data(x=[518, 389], edge_index=[32], y=[518]),\n",
       " 'TS3011b': Data(x=[985, 389], edge_index=[32], y=[985]),\n",
       " 'ES2002c': Data(x=[924, 389], edge_index=[32], y=[924]),\n",
       " 'TS3012a': Data(x=[373, 389], edge_index=[32], y=[373]),\n",
       " 'IS1003a': Data(x=[358, 389], edge_index=[32], y=[358]),\n",
       " 'ES2005a': Data(x=[126, 389], edge_index=[32], y=[126]),\n",
       " 'IS1001a': Data(x=[254, 389], edge_index=[32], y=[254]),\n",
       " 'ES2010b': Data(x=[648, 389], edge_index=[32], y=[648]),\n",
       " 'IS1006c': Data(x=[870, 389], edge_index=[32], y=[870]),\n",
       " 'TS3008c': Data(x=[934, 389], edge_index=[32], y=[934]),\n",
       " 'ES2013b': Data(x=[672, 389], edge_index=[32], y=[672]),\n",
       " 'ES2010a': Data(x=[229, 389], edge_index=[32], y=[229]),\n",
       " 'IS1003c': Data(x=[869, 389], edge_index=[32], y=[869]),\n",
       " 'ES2012a': Data(x=[345, 389], edge_index=[32], y=[345]),\n",
       " 'ES2012d': Data(x=[450, 389], edge_index=[32], y=[450]),\n",
       " 'TS3009c': Data(x=[1275, 389], edge_index=[32], y=[1275]),\n",
       " 'TS3009b': Data(x=[1207, 389], edge_index=[32], y=[1207]),\n",
       " 'ES2013d': Data(x=[755, 389], edge_index=[32], y=[755]),\n",
       " 'ES2005c': Data(x=[1057, 389], edge_index=[32], y=[1057]),\n",
       " 'ES2013c': Data(x=[718, 389], edge_index=[32], y=[718]),\n",
       " 'ES2015a': Data(x=[357, 389], edge_index=[32], y=[357]),\n",
       " 'IS1002c': Data(x=[754, 389], edge_index=[32], y=[754]),\n",
       " 'IS1001c': Data(x=[515, 389], edge_index=[32], y=[515]),\n",
       " 'ES2006a': Data(x=[403, 389], edge_index=[32], y=[403]),\n",
       " 'TS3008b': Data(x=[901, 389], edge_index=[32], y=[901]),\n",
       " 'ES2015d': Data(x=[1143, 389], edge_index=[32], y=[1143]),\n",
       " 'IS1007b': Data(x=[422, 389], edge_index=[32], y=[422]),\n",
       " 'ES2006c': Data(x=[869, 389], edge_index=[32], y=[869]),\n",
       " 'TS3010a': Data(x=[212, 389], edge_index=[32], y=[212]),\n",
       " 'ES2009d': Data(x=[1082, 389], edge_index=[32], y=[1082]),\n",
       " 'TS3012b': Data(x=[1487, 389], edge_index=[32], y=[1487]),\n",
       " 'TS3011d': Data(x=[911, 389], edge_index=[32], y=[911]),\n",
       " 'TS3008d': Data(x=[1328, 389], edge_index=[32], y=[1328]),\n",
       " 'ES2016c': Data(x=[557, 389], edge_index=[32], y=[557]),\n",
       " 'ES2009b': Data(x=[593, 389], edge_index=[32], y=[593]),\n",
       " 'TS3010c': Data(x=[689, 389], edge_index=[32], y=[689]),\n",
       " 'ES2006b': Data(x=[806, 389], edge_index=[32], y=[806]),\n",
       " 'TS3009d': Data(x=[1215, 389], edge_index=[32], y=[1215]),\n",
       " 'TS3012d': Data(x=[1283, 389], edge_index=[32], y=[1283]),\n",
       " 'IS1000d': Data(x=[1377, 389], edge_index=[32], y=[1377]),\n",
       " 'TS3005c': Data(x=[1156, 389], edge_index=[32], y=[1156]),\n",
       " 'TS3005a': Data(x=[542, 389], edge_index=[32], y=[542]),\n",
       " 'IS1001b': Data(x=[772, 389], edge_index=[32], y=[772]),\n",
       " 'ES2007b': Data(x=[547, 389], edge_index=[32], y=[547]),\n",
       " 'ES2008a': Data(x=[339, 389], edge_index=[32], y=[339]),\n",
       " 'IS1000c': Data(x=[722, 389], edge_index=[32], y=[722]),\n",
       " 'IS1006a': Data(x=[357, 389], edge_index=[32], y=[357]),\n",
       " 'IS1004b': Data(x=[672, 389], edge_index=[32], y=[672]),\n",
       " 'IS1004c': Data(x=[839, 389], edge_index=[32], y=[839]),\n",
       " 'ES2016a': Data(x=[481, 389], edge_index=[32], y=[481])}"
      ]
     },
     "execution_count": 18,
     "metadata": {},
     "output_type": "execute_result"
    }
   ],
   "source": [
    "train_graphs"
   ]
  },
  {
   "cell_type": "code",
   "execution_count": 19,
   "metadata": {},
   "outputs": [
    {
     "name": "stdout",
     "output_type": "stream",
     "text": [
      "- Epoch 000 -\n",
      "Training time: 8.167797088623047 seconds\n",
      "Loss: 0.7497\n",
      "Evaluation time: 8.167797088623047 seconds\n",
      "F1 train: 0.559379357203108\n",
      "F1 valid: 0.5879434425039411\n",
      "\n",
      "- Epoch 001 -\n",
      "Training time: 7.880878210067749 seconds\n",
      "Loss: 0.6779\n",
      "Evaluation time: 7.880878210067749 seconds\n",
      "F1 train: 0.565696541284851\n",
      "F1 valid: 0.5946770778721908\n",
      "\n",
      "- Epoch 002 -\n",
      "Training time: 7.837092399597168 seconds\n",
      "Loss: 0.6585\n",
      "Evaluation time: 7.837092399597168 seconds\n",
      "F1 train: 0.5888621571246229\n",
      "F1 valid: 0.6045891907480099\n",
      "\n",
      "- Epoch 003 -\n",
      "Training time: 8.428555250167847 seconds\n",
      "Loss: 0.6386\n",
      "Evaluation time: 8.428555250167847 seconds\n",
      "F1 train: 0.6096276346678647\n",
      "F1 valid: 0.610277658132201\n",
      "\n",
      "- Epoch 004 -\n",
      "Training time: 7.836430311203003 seconds\n",
      "Loss: 0.6037\n",
      "Evaluation time: 7.836430311203003 seconds\n",
      "F1 train: 0.6172937102551277\n",
      "F1 valid: 0.6000991874673829\n",
      "\n",
      "- Epoch 005 -\n",
      "Training time: 7.803037166595459 seconds\n",
      "Loss: 0.5552\n",
      "Evaluation time: 7.803037166595459 seconds\n",
      "F1 train: 0.649750935474656\n",
      "F1 valid: 0.6009410223504147\n",
      "\n",
      "- Epoch 006 -\n",
      "Training time: 8.848730325698853 seconds\n",
      "Loss: 0.5334\n",
      "Evaluation time: 8.848730325698853 seconds\n",
      "F1 train: 0.679667979087877\n",
      "F1 valid: 0.6060495336505343\n",
      "\n",
      "- Epoch 007 -\n",
      "Training time: 8.380499362945557 seconds\n",
      "Loss: 0.4726\n",
      "Evaluation time: 8.380499362945557 seconds\n",
      "F1 train: 0.7335019184898621\n",
      "F1 valid: 0.5769336058484014\n",
      "\n"
     ]
    }
   ],
   "source": [
    "# Move the instantiation of the model outside the training loop\n",
    "model = NodeClassifier(32, 389)\n",
    "model.set_threshold(0.59)\n",
    "\n",
    "# Move the model and data to GPU if available\n",
    "device = torch.device(\"cuda\" if torch.cuda.is_available() else \"cpu\")\n",
    "model = model.to(device)\n",
    "\n",
    "# Use DataLoader to create batches of data\n",
    "train_loader = DataLoader(list(train_graphs.values()), batch_size=1, shuffle=True)\n",
    "N_train = len(train_loader)\n",
    "validation_loader = DataLoader(list(validation_graphs.values()), batch_size=1, shuffle=False)\n",
    "N_validation = len(validation_loader)\n",
    "\n",
    "# Define the loss function and optimizer\n",
    "alpha = 0.2\n",
    "gamma = 5\n",
    "criterion = nn.BCEWithLogitsLoss(pos_weight=torch.tensor((1 - alpha) / alpha), reduction='mean')\n",
    "optimizer = torch.optim.Adam(model.parameters(), lr=0.01)\n",
    "\n",
    "from sklearn.metrics import f1_score\n",
    "import time\n",
    "\n",
    "# Train the model\n",
    "for epoch in range(8):\n",
    "    print('- Epoch', f'{epoch:03d}', '-')\n",
    "   \n",
    "    start_time = time.time()\n",
    "    model.train()\n",
    "    total_loss = 0\n",
    "    for data in train_loader:\n",
    "        data = data.to(device)\n",
    "        optimizer.zero_grad()\n",
    "        output = model(data).squeeze()\n",
    "        loss = criterion(output, data.y.float())\n",
    "        loss.backward()\n",
    "        optimizer.step()\n",
    "        total_loss += loss.item()\n",
    "    average_loss = total_loss / N_train\n",
    "    end_time = time.time()\n",
    "\n",
    "    training_time = end_time - start_time\n",
    "    print('Training time:', training_time, 'seconds')\n",
    "    print('Loss:', f'{average_loss:.4f}')\n",
    "\n",
    "    # Evaluate the model on the training set\n",
    "    start_time = time.time()\n",
    "    model.eval()\n",
    "    f1_moyen_train = 0\n",
    "    for data in train_loader:\n",
    "        data = data.to(device)\n",
    "        y_pred = model.predict(data)\n",
    "        y_true = data.y.cpu().numpy()\n",
    "        f1 = f1_score(y_true, y_pred)\n",
    "        f1_moyen_train += f1\n",
    "    f1_moyen_train /= N_train\n",
    "\n",
    "    # Evaluate the model on the validation set\n",
    "    model.eval()\n",
    "    f1_moyen_valid = 0\n",
    "    for data in validation_loader:\n",
    "        data = data.to(device)\n",
    "        y_pred = model.predict(data)\n",
    "        y_true = data.y.cpu().numpy()\n",
    "        f1 = f1_score(y_true, y_pred)\n",
    "        f1_moyen_valid += f1\n",
    "    f1_moyen_valid /= N_validation\n",
    "    end_time = time.time()\n",
    "\n",
    "    evaluation_time = end_time - start_time\n",
    "    print('Evaluation time:', training_time, 'seconds')\n",
    "\n",
    "    print('F1 train:', f1_moyen_train)\n",
    "    print('F1 valid:', f1_moyen_valid)\n",
    "    torch.save(model.state_dict(), \"training_states/\" + str(epoch) + \".pth\")\n",
    "    average_loss = total_loss / len(train_loader)\n",
    "    print('')\n",
    "\n"
   ]
  },
  {
   "cell_type": "code",
   "execution_count": 36,
   "metadata": {},
   "outputs": [
    {
     "data": {
      "image/png": "[encoded data removed]",
      "text/plain": [
       "<Figure size 640x480 with 1 Axes>"
      ]
     },
     "metadata": {},
     "output_type": "display_data"
    },
    {
     "data": {
      "image/png": "[encoded data removed]",
      "text/plain": [
       "<Figure size 640x480 with 1 Axes>"
      ]
     },
     "metadata": {},
     "output_type": "display_data"
    },
    {
     "data": {
      "image/png": "[encoded data removed]",
      "text/plain": [
       "<Figure size 640x480 with 1 Axes>"
      ]
     },
     "metadata": {},
     "output_type": "display_data"
    }
   ],
   "source": [
    "def show_logits_confusion_density():\n",
    "    model.eval()\n",
    "    logits = []\n",
    "    y_true = []\n",
    "    model.eval()\n",
    "    with torch.no_grad():\n",
    "        for data in validation_loader:\n",
    "            data = data.to(device)\n",
    "            logits.append(torch.sigmoid(model(data)).squeeze().cpu().numpy())\n",
    "            y_true.append(data.y.cpu().numpy())\n",
    "    logits = np.concatenate(logits)\n",
    "    y_true = np.concatenate(y_true)\n",
    "    plt.hist(logits[y_true == 0], bins=100, alpha=0.5, label='0', density=True)\n",
    "    plt.xlabel('sigmoid value')\n",
    "    plt.ylabel('density')\n",
    "    plt.legend()\n",
    "    plt.show()\n",
    "    plt.hist(logits[y_true == 1], bins=100, alpha=0.5, label='1', density=True)\n",
    "    plt.xlabel('sigmoid value')\n",
    "    plt.ylabel('density')\n",
    "    plt.legend()\n",
    "    plt.show()\n",
    "    plt.hist(logits[logits > 0.3], bins=100, alpha=0.5, label='both', density=True)\n",
    "    plt.xlabel('sigmoid value')\n",
    "    plt.ylabel('density')\n",
    "    plt.legend()\n",
    "    plt.show()\n",
    "show_logits_confusion_density()"
   ]
  },
  {
   "cell_type": "code",
   "execution_count": 37,
   "metadata": {},
   "outputs": [
    {
     "data": {
      "image/png": "[encoded data removed]",
      "text/plain": [
       "<Figure size 640x480 with 1 Axes>"
      ]
     },
     "metadata": {},
     "output_type": "display_data"
    }
   ],
   "source": [
    "# on peut revenir à un modèle intermédiaire pour éviter l'overfitting\n",
    "epoch_opt = 7\n",
    "model.load_state_dict(torch.load(\"training_states/\"+str(epoch_opt)+\".pth\"))\n",
    "\n",
    "T = np.linspace(0.1,0.8,10)\n",
    "f1s = []\n",
    "for t in T:\n",
    "    model.set_threshold(t)\n",
    "    f1_valid = aja.f1_score_moyen(model, validation_graphs)\n",
    "    f1s.append(f1_valid)\n",
    "\n",
    "plt.plot(T, f1s)\n",
    "plt.xlabel('Threshold')\n",
    "plt.ylabel('F1-score')\n",
    "plt.show()"
   ]
  },
  {
   "cell_type": "code",
   "execution_count": 22,
   "metadata": {},
   "outputs": [],
   "source": [
    "# quand on est content on fait une submission !\n",
    "model.set_threshold(0.75)\n",
    "aja.make_test_csv_submission(model, test_graphs, 'avec_toutes_les_donnees')"
   ]
  },
  {
   "cell_type": "code",
   "execution_count": null,
   "metadata": {},
   "outputs": [],
   "source": []
  }
 ],
 "metadata": {
  "kernelspec": {
   "display_name": "Python 3 (ipykernel)",
   "language": "python",
   "name": "python3"
  }
 },
 "nbformat": 4,
 "nbformat_minor": 2
}
