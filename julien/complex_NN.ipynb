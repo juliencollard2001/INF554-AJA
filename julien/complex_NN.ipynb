{
 "cells": [
  {
   "cell_type": "code",
   "execution_count": 8,
   "metadata": {},
   "outputs": [],
   "source": [
    "import json\n",
    "from pathlib import Path\n",
    "import numpy as np\n",
    "import matplotlib.pyplot as plt\n",
    "from tqdm import tqdm \n",
    "import torch\n",
    "from torch_geometric.data import Data\n",
    "import torch.nn as nn\n",
    "from torch_geometric.nn import GCNConv\n",
    "import torch.nn.functional as F\n",
    "from torch_geometric.loader import DataLoader\n",
    "import pandas as pd\n",
    "\n",
    "import sys\n",
    "sys.path.append('../AJA')\n",
    "import AJA as aja"
   ]
  },
  {
   "cell_type": "code",
   "execution_count": 9,
   "metadata": {},
   "outputs": [],
   "source": [
    "from sklearn.preprocessing import StandardScaler\n",
    "\n",
    "\n",
    "def f(df_nodes, df_edges):\n",
    "\n",
    "    df = df_nodes\n",
    "\n",
    "    scaler = StandardScaler()\n",
    "\n",
    "    # sentence length normalized\n",
    "    df['sentence_length'] = df['text'].apply(lambda s: len(s.split()))\n",
    "    df['sentence_length'] = scaler.fit_transform(df['sentence_length'].values.reshape(-1, 1))\n",
    "\n",
    "    # speaker hot-one encoding\n",
    "    one_hot_encoded = pd.get_dummies(df['speaker_int'], prefix='speaker')\n",
    "    df = df.drop('speaker_int', axis=1)\n",
    "    df = df.drop('speaker_text', axis=1)\n",
    "    df = pd.concat([df, one_hot_encoded], axis=1)\n",
    "    return df\n",
    "\n",
    "def g(df):\n",
    "    new_df = pd.DataFrame({\n",
    "        'transcription': df['transcription'],\n",
    "        'start': df['end'],\n",
    "        'end': df['start'],\n",
    "        'type_int': 16 + df['type_int'],\n",
    "        'type_text': df['type_text'] + \"_reverse\"\n",
    "    })\n",
    "    result_df = pd.concat([df, new_df], ignore_index=True)\n",
    "    return result_df\n"
   ]
  },
  {
   "cell_type": "code",
   "execution_count": 10,
   "metadata": {},
   "outputs": [],
   "source": [
    "train_graphs, validation_graphs, test_graphs = aja.get_graphs(f, g, 0.3)"
   ]
  },
  {
   "cell_type": "code",
   "execution_count": 11,
   "metadata": {},
   "outputs": [
    {
     "data": {
      "text/plain": [
       "Data(x=[471, 389], edge_index=[32], y=[471])"
      ]
     },
     "execution_count": 11,
     "metadata": {},
     "output_type": "execute_result"
    }
   ],
   "source": [
    "# on check la forme des input\n",
    "train_graphs['TS3008a']"
   ]
  },
  {
   "cell_type": "code",
   "execution_count": 12,
   "metadata": {},
   "outputs": [],
   "source": [
    "class MultiChannelsGCN(torch.nn.Module):\n",
    "    \n",
    "    def __init__(self, channels, input_dim, post_conv_dim, output_dim, identity=False):\n",
    "        super(MultiChannelsGCN, self).__init__()\n",
    "        self.identity = identity\n",
    "        self.channels = channels\n",
    "        self.input_dim = input_dim\n",
    "        self.post_conv_dim = post_conv_dim\n",
    "        self.output_dim = output_dim\n",
    "        self.GCN = nn.ModuleList([GCNConv(input_dim, post_conv_dim) for _ in range(channels)])\n",
    "        if identity:\n",
    "            self.dense = nn.Linear(post_conv_dim * (channels + 1), output_dim)\n",
    "            self.denseID = nn.Linear(input_dim, post_conv_dim)\n",
    "        else:\n",
    "            self.dense = nn.Linear(post_conv_dim * channels, output_dim)\n",
    "\n",
    "    def forward(self, nodes, edges):\n",
    "        X = []\n",
    "        for k in range(self.channels):\n",
    "            if len(edges[k]) == 0:\n",
    "                x = torch.zeros(nodes.shape[0], self.post_conv_dim)\n",
    "            else:\n",
    "                x = F.relu(self.GCN[k](nodes, edges[k]))\n",
    "            X.append(x)\n",
    "        if self.identity:\n",
    "            X.append(F.relu(self.denseID(nodes)))\n",
    "        concat = torch.cat(X, dim=1)\n",
    "        return F.relu(self.dense(concat))"
   ]
  },
  {
   "cell_type": "code",
   "execution_count": 13,
   "metadata": {},
   "outputs": [],
   "source": [
    "# on définie son plus beau modèle\n",
    "\n",
    "class NodeClassifier(torch.nn.Module):\n",
    "    def __init__(self, channels, input_dim):\n",
    "        super(NodeClassifier, self).__init__()\n",
    "        self.threshold = 0.5\n",
    "        self.GCN1 = MultiChannelsGCN(channels, input_dim, 50, 20, identity=True)\n",
    "        self.dense1 = nn.Linear(20,1)\n",
    "\n",
    "    def forward(self, data):\n",
    "        nodes, edges = data.x, data.edge_index\n",
    "        \n",
    "        x = self.GCN1(nodes, edges)\n",
    "        x = self.dense1(x)\n",
    "        return x\n",
    "\n",
    "    def set_threshold(self, t):\n",
    "        self.threshold = t\n",
    "\n",
    "    def predict(self, graph):\n",
    "        self.eval()\n",
    "        with torch.no_grad():\n",
    "            logits = self.forward(graph)\n",
    "            predictions = torch.sigmoid(logits)\n",
    "        return np.array((predictions > self.threshold).int()).flatten()"
   ]
  },
  {
   "cell_type": "code",
   "execution_count": 14,
   "metadata": {},
   "outputs": [],
   "source": [
    "# Charger l'extension autoreload\n",
    "%load_ext autoreload\n",
    "\n",
    "# Configurer autoreload pour recharger tous les modules avant l'exécution de chaque cellule\n",
    "%autoreload 2"
   ]
  },
  {
   "cell_type": "code",
   "execution_count": 19,
   "metadata": {},
   "outputs": [
    {
     "data": {
      "text/plain": [
       "{'ES2012a': Data(x=[345, 389], edge_index=[32], y=[345]),\n",
       " 'TS3011c': Data(x=[1017, 389], edge_index=[32], y=[1017]),\n",
       " 'IS1004d': Data(x=[886, 389], edge_index=[32], y=[886]),\n",
       " 'ES2002b': Data(x=[897, 389], edge_index=[32], y=[897]),\n",
       " 'ES2007c': Data(x=[765, 389], edge_index=[32], y=[765]),\n",
       " 'IS1000c': Data(x=[722, 389], edge_index=[32], y=[722]),\n",
       " 'IS1007b': Data(x=[422, 389], edge_index=[32], y=[422]),\n",
       " 'TS3009c': Data(x=[1275, 389], edge_index=[32], y=[1275]),\n",
       " 'IS1001d': Data(x=[379, 389], edge_index=[32], y=[379]),\n",
       " 'TS3012d': Data(x=[1283, 389], edge_index=[32], y=[1283]),\n",
       " 'ES2015a': Data(x=[357, 389], edge_index=[32], y=[357]),\n",
       " 'IS1004c': Data(x=[839, 389], edge_index=[32], y=[839]),\n",
       " 'TS3008a': Data(x=[471, 389], edge_index=[32], y=[471]),\n",
       " 'ES2002a': Data(x=[396, 389], edge_index=[32], y=[396]),\n",
       " 'ES2008a': Data(x=[339, 389], edge_index=[32], y=[339]),\n",
       " 'ES2013c': Data(x=[718, 389], edge_index=[32], y=[718]),\n",
       " 'ES2015c': Data(x=[960, 389], edge_index=[32], y=[960]),\n",
       " 'ES2008b': Data(x=[856, 389], edge_index=[32], y=[856]),\n",
       " 'ES2006d': Data(x=[1047, 389], edge_index=[32], y=[1047]),\n",
       " 'ES2008d': Data(x=[1364, 389], edge_index=[32], y=[1364]),\n",
       " 'ES2012d': Data(x=[450, 389], edge_index=[32], y=[450]),\n",
       " 'ES2007b': Data(x=[547, 389], edge_index=[32], y=[547]),\n",
       " 'TS3011a': Data(x=[486, 389], edge_index=[32], y=[486]),\n",
       " 'IS1002b': Data(x=[782, 389], edge_index=[32], y=[782]),\n",
       " 'ES2013d': Data(x=[755, 389], edge_index=[32], y=[755]),\n",
       " 'IS1006c': Data(x=[870, 389], edge_index=[32], y=[870]),\n",
       " 'TS3005a': Data(x=[542, 389], edge_index=[32], y=[542]),\n",
       " 'IS1005a': Data(x=[249, 389], edge_index=[32], y=[249]),\n",
       " 'IS1000b': Data(x=[838, 389], edge_index=[32], y=[838]),\n",
       " 'IS1006a': Data(x=[357, 389], edge_index=[32], y=[357]),\n",
       " 'ES2016c': Data(x=[557, 389], edge_index=[32], y=[557]),\n",
       " 'ES2015b': Data(x=[973, 389], edge_index=[32], y=[973]),\n",
       " 'IS1002c': Data(x=[754, 389], edge_index=[32], y=[754]),\n",
       " 'ES2006a': Data(x=[403, 389], edge_index=[32], y=[403]),\n",
       " 'TS3009d': Data(x=[1215, 389], edge_index=[32], y=[1215]),\n",
       " 'ES2009a': Data(x=[791, 389], edge_index=[32], y=[791]),\n",
       " 'TS3011d': Data(x=[911, 389], edge_index=[32], y=[911]),\n",
       " 'IS1006d': Data(x=[1148, 389], edge_index=[32], y=[1148]),\n",
       " 'TS3005b': Data(x=[1318, 389], edge_index=[32], y=[1318]),\n",
       " 'ES2005a': Data(x=[126, 389], edge_index=[32], y=[126]),\n",
       " 'IS1004b': Data(x=[672, 389], edge_index=[32], y=[672]),\n",
       " 'IS1007c': Data(x=[667, 389], edge_index=[32], y=[667]),\n",
       " 'TS3010b': Data(x=[524, 389], edge_index=[32], y=[524]),\n",
       " 'ES2005d': Data(x=[669, 389], edge_index=[32], y=[669]),\n",
       " 'ES2008c': Data(x=[860, 389], edge_index=[32], y=[860]),\n",
       " 'ES2005c': Data(x=[1057, 389], edge_index=[32], y=[1057]),\n",
       " 'ES2009c': Data(x=[785, 389], edge_index=[32], y=[785]),\n",
       " 'TS3009b': Data(x=[1207, 389], edge_index=[32], y=[1207]),\n",
       " 'ES2002c': Data(x=[924, 389], edge_index=[32], y=[924]),\n",
       " 'ES2010b': Data(x=[648, 389], edge_index=[32], y=[648]),\n",
       " 'TS3011b': Data(x=[985, 389], edge_index=[32], y=[985]),\n",
       " 'IS1007d': Data(x=[717, 389], edge_index=[32], y=[717]),\n",
       " 'TS3010c': Data(x=[689, 389], edge_index=[32], y=[689]),\n",
       " 'ES2009d': Data(x=[1082, 389], edge_index=[32], y=[1082]),\n",
       " 'IS1001a': Data(x=[254, 389], edge_index=[32], y=[254]),\n",
       " 'TS3005c': Data(x=[1156, 389], edge_index=[32], y=[1156]),\n",
       " 'ES2016b': Data(x=[713, 389], edge_index=[32], y=[713]),\n",
       " 'IS1003c': Data(x=[869, 389], edge_index=[32], y=[869]),\n",
       " 'ES2013a': Data(x=[248, 389], edge_index=[32], y=[248]),\n",
       " 'TS3012b': Data(x=[1487, 389], edge_index=[32], y=[1487]),\n",
       " 'IS1003a': Data(x=[358, 389], edge_index=[32], y=[358]),\n",
       " 'ES2010a': Data(x=[229, 389], edge_index=[32], y=[229]),\n",
       " 'IS1006b': Data(x=[838, 389], edge_index=[32], y=[838]),\n",
       " 'ES2013b': Data(x=[672, 389], edge_index=[32], y=[672]),\n",
       " 'TS3012a': Data(x=[373, 389], edge_index=[32], y=[373]),\n",
       " 'IS1005b': Data(x=[614, 389], edge_index=[32], y=[614]),\n",
       " 'ES2007d': Data(x=[518, 389], edge_index=[32], y=[518]),\n",
       " 'ES2016a': Data(x=[481, 389], edge_index=[32], y=[481]),\n",
       " 'TS3008d': Data(x=[1328, 389], edge_index=[32], y=[1328]),\n",
       " 'IS1000a': Data(x=[585, 389], edge_index=[32], y=[585]),\n",
       " 'ES2012b': Data(x=[738, 389], edge_index=[32], y=[738]),\n",
       " 'TS3008b': Data(x=[901, 389], edge_index=[32], y=[901]),\n",
       " 'IS1000d': Data(x=[1377, 389], edge_index=[32], y=[1377]),\n",
       " 'IS1005c': Data(x=[572, 389], edge_index=[32], y=[572]),\n",
       " 'IS1003b': Data(x=[641, 389], edge_index=[32], y=[641]),\n",
       " 'ES2016d': Data(x=[647, 389], edge_index=[32], y=[647]),\n",
       " 'ES2009b': Data(x=[593, 389], edge_index=[32], y=[593]),\n",
       " 'ES2015d': Data(x=[1143, 389], edge_index=[32], y=[1143]),\n",
       " 'IS1007a': Data(x=[336, 389], edge_index=[32], y=[336]),\n",
       " 'IS1004a': Data(x=[196, 389], edge_index=[32], y=[196]),\n",
       " 'IS1001b': Data(x=[772, 389], edge_index=[32], y=[772]),\n",
       " 'TS3010a': Data(x=[212, 389], edge_index=[32], y=[212]),\n",
       " 'ES2007a': Data(x=[415, 389], edge_index=[32], y=[415]),\n",
       " 'TS3008c': Data(x=[934, 389], edge_index=[32], y=[934]),\n",
       " 'IS1001c': Data(x=[515, 389], edge_index=[32], y=[515]),\n",
       " 'TS3009a': Data(x=[714, 389], edge_index=[32], y=[714]),\n",
       " 'IS1002d': Data(x=[497, 389], edge_index=[32], y=[497]),\n",
       " 'TS3010d': Data(x=[649, 389], edge_index=[32], y=[649]),\n",
       " 'ES2010c': Data(x=[722, 389], edge_index=[32], y=[722]),\n",
       " 'ES2006b': Data(x=[806, 389], edge_index=[32], y=[806]),\n",
       " 'ES2010d': Data(x=[563, 389], edge_index=[32], y=[563]),\n",
       " 'ES2006c': Data(x=[869, 389], edge_index=[32], y=[869]),\n",
       " 'ES2002d': Data(x=[1207, 389], edge_index=[32], y=[1207]),\n",
       " 'IS1003d': Data(x=[1095, 389], edge_index=[32], y=[1095]),\n",
       " 'TS3005d': Data(x=[2160, 389], edge_index=[32], y=[2160]),\n",
       " 'ES2012c': Data(x=[915, 389], edge_index=[32], y=[915]),\n",
       " 'ES2005b': Data(x=[815, 389], edge_index=[32], y=[815])}"
      ]
     },
     "execution_count": 19,
     "metadata": {},
     "output_type": "execute_result"
    }
   ],
   "source": [
    "train_graphs"
   ]
  },
  {
   "cell_type": "code",
   "execution_count": 18,
   "metadata": {},
   "outputs": [
    {
     "name": "stdout",
     "output_type": "stream",
     "text": [
      "- Epoch 000 -\n",
      "Loss: 72.2634\n",
      "F1 train: 0.5788673744879571\n",
      "F1 valid: 0.5719557648031911\n",
      "\n",
      "- Epoch 001 -\n",
      "Loss: 65.6509\n",
      "F1 train: 0.5952348931183479\n",
      "F1 valid: 0.5904867156364392\n",
      "\n",
      "- Epoch 002 -\n",
      "Loss: 63.3550\n",
      "F1 train: 0.6098641679585652\n",
      "F1 valid: 0.607677479750115\n",
      "\n",
      "- Epoch 003 -\n",
      "Loss: 60.7617\n",
      "F1 train: 0.6226324323354832\n",
      "F1 valid: 0.6272350069420154\n",
      "\n",
      "- Epoch 004 -\n",
      "Loss: 57.2343\n",
      "F1 train: 0.6427841066125389\n",
      "F1 valid: 0.655392294845819\n",
      "\n",
      "- Epoch 005 -\n",
      "Loss: 53.2395\n",
      "F1 train: 0.6582790292620796\n",
      "F1 valid: 0.674073321526585\n",
      "\n",
      "- Epoch 006 -\n",
      "Loss: 49.2470\n",
      "F1 train: 0.6850585102055994\n",
      "F1 valid: 0.7038978876387628\n",
      "\n",
      "- Epoch 007 -\n",
      "Loss: 45.1418\n",
      "F1 train: 0.6883987829978736\n",
      "F1 valid: 0.7094511339853579\n",
      "\n"
     ]
    }
   ],
   "source": [
    "# on instancie le modèle\n",
    "model = NodeClassifier(32,389)\n",
    "\n",
    "# on définie la fonction de perte et l'optimiseur\n",
    "#criterion = torch.nn.CrossEntropyLoss()\n",
    "optimizer = torch.optim.Adam(model.parameters(), lr=0.01)\n",
    "\n",
    "alpha = 0.2  # Paramètre de pondération (ajustez selon votre cas)\n",
    "gamma = 5  # Paramètre de focalité (ajustez selon votre cas)\n",
    "criterion = nn.BCEWithLogitsLoss(pos_weight=torch.tensor((1 - alpha) / alpha), reduction='mean')\n",
    "\n",
    "\n",
    "model.set_threshold(0.59)\n",
    "\n",
    "# on entraine !\n",
    "\n",
    "for epoch in range(8):\n",
    "    loss = aja.train(model, {**train_graphs, **validation_graphs}, optimizer, criterion)\n",
    "    print('- Epoch', f'{epoch:03d}', '-')\n",
    "    print('Loss:',  f'{loss:.4f}')\n",
    "    f1_train = aja.f1_score_moyen(model, train_graphs)\n",
    "    f1_valid = aja.f1_score_moyen(model, validation_graphs)\n",
    "    print('F1 train:', f1_train)\n",
    "    print('F1 valid:', f1_valid)\n",
    "    torch.save(model.state_dict(), \"training_states/\"+str(epoch) + \".pth\")\n",
    "    print('')"
   ]
  },
  {
   "cell_type": "code",
   "execution_count": 21,
   "metadata": {},
   "outputs": [
    {
     "data": {
      "image/png": "[encoded data removed]",
      "text/plain": [
       "<Figure size 640x480 with 1 Axes>"
      ]
     },
     "metadata": {},
     "output_type": "display_data"
    }
   ],
   "source": [
    "# on peut revenir à un modèle intermédiaire pour éviter l'overfitting\n",
    "epoch_opt = 7\n",
    "model.load_state_dict(torch.load(\"training_states/\"+str(epoch_opt)+\".pth\"))\n",
    "\n",
    "T = np.linspace(0.7,0.8,10)\n",
    "f1s = []\n",
    "for t in T:\n",
    "    model.set_threshold(t)\n",
    "    f1_valid = aja.f1_score_moyen(model, validation_graphs)\n",
    "    f1s.append(f1_valid)\n",
    "\n",
    "plt.plot(T, f1s)\n",
    "plt.xlabel('Threshold')\n",
    "plt.ylabel('F1-score')\n",
    "plt.show()"
   ]
  },
  {
   "cell_type": "code",
   "execution_count": 22,
   "metadata": {},
   "outputs": [],
   "source": [
    "# quand on est content on fait une submission !\n",
    "model.set_threshold(0.75)\n",
    "aja.make_test_csv_submission(model, test_graphs, 'avec_toutes_les_donnees')"
   ]
  },
  {
   "cell_type": "code",
   "execution_count": null,
   "metadata": {},
   "outputs": [],
   "source": []
  }
 ],
 "metadata": {
  "kernelspec": {
   "display_name": "base",
   "language": "python",
   "name": "python3"
  },
  "language_info": {
   "codemirror_mode": {
    "name": "ipython",
    "version": 3
   },
   "file_extension": ".py",
   "mimetype": "text/x-python",
   "name": "python",
   "nbconvert_exporter": "python",
   "pygments_lexer": "ipython3",
   "version": "3.9.12"
  }
 },
 "nbformat": 4,
 "nbformat_minor": 2
}
