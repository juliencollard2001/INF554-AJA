{
 "cells": [
  {
   "cell_type": "code",
   "execution_count": 1,
   "metadata": {},
   "outputs": [],
   "source": [
    "import numpy as np \n",
    "import tensorflow as tf\n",
    "from spektral.layers import GCNConv\n",
    "from sklearn.metrics import f1_score\n",
    "from keras import backend as K"
   ]
  },
  {
   "cell_type": "code",
   "execution_count": 32,
   "metadata": {},
   "outputs": [
    {
     "name": "stdout",
     "output_type": "stream",
     "text": [
      "D: 10\n",
      "K: 5\n",
      "cannaux: 16\n",
      "Model: \"model_11\"\n",
      "__________________________________________________________________________________________________\n",
      " Layer (type)                Output Shape                 Param #   Connected to                  \n",
      "==================================================================================================\n",
      " input_59 (InputLayer)       [(None, None, 10)]           0         []                            \n",
      "                                                                                                  \n",
      " input_60 (InputLayer)       [(None, None, None, 1)]      0         []                            \n"
     ]
    },
    {
     "name": "stdout",
     "output_type": "stream",
     "text": [
      "                                                                                                  \n",
      " custom_graphe_conv_2 (Cust  (None, None, 5)              850       ['input_59[0][0]',            \n",
      " omGrapheConv)                                                       'input_60[0][0]']            \n",
      "                                                                                                  \n",
      "==================================================================================================\n",
      "Total params: 850 (3.32 KB)\n",
      "Trainable params: 850 (3.32 KB)\n",
      "Non-trainable params: 0 (0.00 Byte)\n",
      "__________________________________________________________________________________________________\n"
     ]
    }
   ],
   "source": [
    "from tensorflow.keras.layers import Layer\n",
    "import tensorflow as tf\n",
    "\n",
    "class CustomGrapheConv(Layer):\n",
    "    def __init__(self, output_dim, canaux, **kwargs):\n",
    "        self.output_dim = output_dim\n",
    "        self.cannaux = canaux\n",
    "        super(CustomGrapheConv, self).__init__(**kwargs)\n",
    "\n",
    "    def build(self, input_shape):\n",
    "        assert isinstance(input_shape, list)\n",
    "        assert len(input_shape) == 2          # we want to inputs\n",
    "        input_shape_1, input_shape_2 = input_shape\n",
    "        D = input_shape_1[2]\n",
    "        K = self.output_dim\n",
    "        canaux = self.cannaux\n",
    "        print('D:', D)\n",
    "        print('K:', K)\n",
    "        print('cannaux:', canaux)\n",
    "\n",
    "        # Créer les poids de la couche (variables)\n",
    "        self.U = self.add_weight(name='U',\n",
    "                                        shape=(D, K),\n",
    "                                        initializer='uniform',\n",
    "                                        trainable=True)\n",
    "        \n",
    "        self.Cs = []\n",
    "\n",
    "        for k in range(canaux):\n",
    "            C = self.add_weight(name='C_'+str(k),\n",
    "                                        shape=(D, K),\n",
    "                                        initializer='uniform',\n",
    "                                        trainable=True)\n",
    "            self.Cs.append(C)\n",
    "\n",
    "        super(CustomGrapheConv, self).build(input_shape)\n",
    "\n",
    "    def call(self, inputs):\n",
    "        input_1, input_2 = inputs\n",
    "        output_1 = tf.matmul(input_1, self.U)\n",
    "        #output_2 = tf.matmul(input_2, self.kernel_2)\n",
    "\n",
    "        # Combinaison des sorties\n",
    "        #output = output_1 + output_2\n",
    "\n",
    "        return output_1\n",
    "\n",
    "    def compute_output_shape(self, input_shape):\n",
    "        # Définir la forme de sortie de la couche\n",
    "        return (input_shape[0][0], self.output_dim)\n",
    "\n",
    "# Exemple d'utilisation de la couche personnalisée dans un modèle\n",
    "input_1 = tf.keras.Input(shape=(None,10))\n",
    "input_2 = tf.keras.Input(shape=(None, None,1))\n",
    "\n",
    "couche_personnalisee = CustomGrapheConv(output_dim=5,canaux=16)([input_1, input_2])\n",
    "\n",
    "# Création du modèle\n",
    "model = tf.keras.Model(inputs=[input_1, input_2], outputs=couche_personnalisee)\n",
    "\n",
    "# Compiler le modèle\n",
    "model.compile(optimizer='adam', loss='mse')\n",
    "\n",
    "# Afficher la description du modèle\n",
    "model.summary()\n"
   ]
  },
  {
   "cell_type": "code",
   "execution_count": null,
   "metadata": {},
   "outputs": [],
   "source": []
  }
 ],
 "metadata": {
  "kernelspec": {
   "display_name": "base",
   "language": "python",
   "name": "python3"
  },
  "language_info": {
   "codemirror_mode": {
    "name": "ipython",
    "version": 3
   },
   "file_extension": ".py",
   "mimetype": "text/x-python",
   "name": "python",
   "nbconvert_exporter": "python",
   "pygments_lexer": "ipython3",
   "version": "3.9.12"
  }
 },
 "nbformat": 4,
 "nbformat_minor": 2
}
