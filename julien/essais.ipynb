{
 "cells": [
  {
   "cell_type": "code",
   "execution_count": 1,
   "metadata": {},
   "outputs": [],
   "source": [
    "import json\n",
    "from pathlib import Path\n",
    "import numpy as np\n",
    "import networkx as nx\n",
    "import matplotlib.pyplot as plt\n",
    "\n",
    "def flatten(list_of_list):\n",
    "    return [item for sublist in list_of_list for item in sublist]\n",
    "\n",
    "path_to_training = Path(\"data/training\")\n",
    "path_to_test = Path(\"data/test\")"
   ]
  },
  {
   "cell_type": "code",
   "execution_count": 2,
   "metadata": {},
   "outputs": [],
   "source": [
    "#####\n",
    "# training and test sets of transcription ids\n",
    "#####\n",
    "training_set = ['ES2002', 'ES2005', 'ES2006', 'ES2007', 'ES2008', 'ES2009', 'ES2010', 'ES2012', 'ES2013', 'ES2015', 'ES2016', 'IS1000', 'IS1001', 'IS1002', 'IS1003', 'IS1004', 'IS1005', 'IS1006', 'IS1007', 'TS3005', 'TS3008', 'TS3009', 'TS3010', 'TS3011', 'TS3012']\n",
    "training_set = flatten([[m_id+s_id for s_id in 'abcd'] for m_id in training_set])\n",
    "training_set.remove('IS1002a')\n",
    "training_set.remove('IS1005d')\n",
    "training_set.remove('TS3012c')\n",
    "\n",
    "test_set = ['ES2003', 'ES2004', 'ES2011', 'ES2014', 'IS1008', 'IS1009', 'TS3003', 'TS3004', 'TS3006', 'TS3007']\n",
    "test_set = flatten([[m_id+s_id for s_id in 'abcd'] for m_id in test_set])"
   ]
  },
  {
   "cell_type": "code",
   "execution_count": null,
   "metadata": {},
   "outputs": [],
   "source": []
  },
  {
   "cell_type": "code",
   "execution_count": 23,
   "metadata": {},
   "outputs": [],
   "source": [
    "graph_links_labels= set()\n",
    "for id in training_set:\n",
    "    with open(path_to_training / f\"{id}.txt\", \"r\") as graphe:\n",
    "        for line in graphe:\n",
    "            l = line.split()\n",
    "            graph_links_labels.add(l[1])\n",
    "L = list(graph_links_labels)\n",
    "int2label = {indice: valeur for indice, valeur in enumerate(L)}\n",
    "label2int = {valeur: indice for indice, valeur in enumerate(L)}\n",
    "label2int\n",
    "N_vocab_links = len(L)"
   ]
  },
  {
   "cell_type": "code",
   "execution_count": 10,
   "metadata": {},
   "outputs": [],
   "source": [
    "def get_transcript_and_graph(transcription_id):\n",
    "    with open(path_to_training / f\"{transcription_id}.json\", \"r\") as file:\n",
    "        json_transcription = json.load(file)\n",
    "\n",
    "    N = len(json_transcription)\n",
    "    transcription = np.empty((N,2), dtype='object')\n",
    "    for utterance in json_transcription:\n",
    "        transcription[int(utterance[\"index\"]), 0] = utterance[\"speaker\"]\n",
    "        transcription[int(utterance[\"index\"]), 1] = utterance[\"text\"]\n",
    "    G = nx.DiGraph()\n",
    "    with open(path_to_training / f\"{transcription_id}.txt\", \"r\") as graphe:\n",
    "        for line in graphe:\n",
    "            l = line.split()\n",
    "            G.add_edge(int(l[0]), int(l[2]), edge_type=label2int[l[1]])\n",
    "    return transcription, G\n",
    "\n",
    "def get_labels(transcription_id):\n",
    "    with open(\"data/training_labels.json\", \"r\") as file:\n",
    "        training_labels = json.load(file)\n",
    "    return training_labels[transcription_id]"
   ]
  },
  {
   "cell_type": "code",
   "execution_count": 11,
   "metadata": {},
   "outputs": [
    {
     "name": "stdout",
     "output_type": "stream",
     "text": [
      "DiGraph with 869 nodes and 868 edges\n"
     ]
    }
   ],
   "source": [
    "id = training_set[10]\n",
    "\n",
    "t, G,= get_transcript_and_graph(id)\n",
    "print(G)\n"
   ]
  },
  {
   "cell_type": "code",
   "execution_count": 12,
   "metadata": {},
   "outputs": [
    {
     "data": {
      "image/png": "[encoded data removed]",
      "text/plain": [
       "<Figure size 640x480 with 1 Axes>"
      ]
     },
     "metadata": {},
     "output_type": "display_data"
    }
   ],
   "source": [
    "# Création d'un sous-graphe à partir du graphe original\n",
    "selected_nodes = [i for i in range(1,15)]\n",
    "\n",
    "G = G.subgraph(selected_nodes)\n",
    "\n",
    "pos = nx.spring_layout(G)  # Layout pour une meilleure visualisation\n",
    "labels = nx.get_edge_attributes(G, 'edge_type')\n",
    "\n",
    "# Définition de la taille de la police pour les étiquettes des arêtes\n",
    "edge_labels_font = {'font_size': 6}\n",
    "\n",
    "nx.draw_networkx_nodes(G, pos)\n",
    "nx.draw_networkx_labels(G, pos)\n",
    "nx.draw_networkx_edges(G, pos, arrows=True)\n",
    "nx.draw_networkx_edge_labels(G, pos, edge_labels=labels, font_size=edge_labels_font['font_size'])\n",
    "plt.show()"
   ]
  },
  {
   "cell_type": "code",
   "execution_count": 34,
   "metadata": {},
   "outputs": [],
   "source": [
    "def in_out_count(graph):\n",
    "    X = np.empty((len(graph.nodes()),2 * N_vocab_links))\n",
    "    for node in graph.nodes():\n",
    "        i = node - 1\n",
    "        x = np.zeros(2 * N_vocab_links)\n",
    "        arcs_entrants = G.in_edges(node, data=True)\n",
    "        arcs_sortants = G.out_edges(node, data=True)\n",
    "        for source, target, data in arcs_entrants:\n",
    "            edge_type = data['edge_type']\n",
    "            x[edge_type] += 1\n",
    "        for source, target, data in arcs_sortants:\n",
    "            edge_type = data['edge_type']\n",
    "            x[N_vocab_links + edge_type] += 1\n",
    "        X[i,:] = x\n",
    "    return X"
   ]
  },
  {
   "cell_type": "code",
   "execution_count": 36,
   "metadata": {},
   "outputs": [
    {
     "data": {
      "text/plain": [
       "(14, 32)"
      ]
     },
     "execution_count": 36,
     "metadata": {},
     "output_type": "execute_result"
    }
   ],
   "source": [
    "in_out_count(G).shape"
   ]
  },
  {
   "cell_type": "code",
   "execution_count": null,
   "metadata": {},
   "outputs": [],
   "source": [
    "X_train = "
   ]
  },
  {
   "cell_type": "code",
   "execution_count": 42,
   "metadata": {},
   "outputs": [],
   "source": [
    "#dont run that until you want to lose 15 min!!!!!\n",
    "from sklearn.tree import DecisionTreeClassifier\n",
    "from sentence_transformers import SentenceTransformer\n",
    "bert = SentenceTransformer('all-MiniLM-L6-v2')\n"
   ]
  },
  {
   "cell_type": "code",
   "execution_count": 49,
   "metadata": {},
   "outputs": [
    {
     "data": {
      "text/plain": [
       "(384,)"
      ]
     },
     "execution_count": 49,
     "metadata": {},
     "output_type": "execute_result"
    }
   ],
   "source": [
    "bert.encode(\"hello how are you and you\").shape"
   ]
  },
  {
   "cell_type": "code",
   "execution_count": null,
   "metadata": {},
   "outputs": [],
   "source": [
    "\n",
    "X_training = bert.encode(X_training, show_progress_bar=True)"
   ]
  },
  {
   "cell_type": "code",
   "execution_count": null,
   "metadata": {},
   "outputs": [],
   "source": [
    "\n",
    "clf = DecisionTreeClassifier(random_state=0)\n",
    "clf.fit(X_training, y_training)\n",
    "\n",
    "test_labels = {}\n",
    "for transcription_id in test_set:\n",
    "    with open(path_to_test / f\"{transcription_id}.json\", \"r\") as file:\n",
    "        transcription = json.load(file)\n",
    "    \n",
    "    X_test = []\n",
    "    for utterance in transcription:\n",
    "        X_test.append(utterance[\"speaker\"] + \": \" + utterance[\"text\"])\n",
    "    \n",
    "    X_test = bert.encode(X_test)\n",
    "\n",
    "    y_test = clf.predict(X_test)\n",
    "    test_labels[transcription_id] = y_test.tolist()\n",
    "\n",
    "with open(\"test_labels_text_baseline.json\", \"w\") as file:\n",
    "    json.dump(test_labels, file, indent=4)\n"
   ]
  }
 ],
 "metadata": {
  "kernelspec": {
   "display_name": "base",
   "language": "python",
   "name": "python3"
  },
  "language_info": {
   "codemirror_mode": {
    "name": "ipython",
    "version": 3
   },
   "file_extension": ".py",
   "mimetype": "text/x-python",
   "name": "python",
   "nbconvert_exporter": "python",
   "pygments_lexer": "ipython3",
   "version": "3.9.12"
  }
 },
 "nbformat": 4,
 "nbformat_minor": 2
}
