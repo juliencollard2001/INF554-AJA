{
 "cells": [
  {
   "cell_type": "code",
   "execution_count": 1,
   "metadata": {},
   "outputs": [],
   "source": [
    "import json\n",
    "from pathlib import Path\n",
    "import numpy as np\n",
    "import matplotlib.pyplot as plt\n",
    "from tqdm import tqdm \n",
    "import torch\n",
    "from torch_geometric.data import Data\n",
    "import torch.nn as nn\n",
    "from torch_geometric.nn import GCNConv\n",
    "import torch.nn.functional as F\n",
    "import AJA as aja\n",
    "from torch_geometric.loader import DataLoader"
   ]
  },
  {
   "cell_type": "code",
   "execution_count": 2,
   "metadata": {},
   "outputs": [],
   "source": [
    "# charge les data frame brut (avec bert par défaut mais on peut l'enlever)\n",
    "\n",
    "df_train_nodes, df_train_edges, df_test_nodes, df_test_edges = aja.get_data()"
   ]
  },
  {
   "cell_type": "code",
   "execution_count": 3,
   "metadata": {},
   "outputs": [
    {
     "name": "stdout",
     "output_type": "stream",
     "text": [
      "<class 'pandas.core.frame.DataFrame'>\n",
      "RangeIndex: 72623 entries, 0 to 72622\n",
      "Columns: 390 entries, transcription to bert_383\n",
      "dtypes: float32(384), int64(3), object(3)\n",
      "memory usage: 109.7+ MB\n"
     ]
    }
   ],
   "source": [
    "df_train_nodes.info()"
   ]
  },
  {
   "cell_type": "code",
   "execution_count": 8,
   "metadata": {},
   "outputs": [],
   "source": [
    "# on bricole ses data frame en définissant des fonction qui prennent en entré un dataframe\n",
    "# et donne en sortie un dataframe\n",
    "# c'est dans ces fonctions qu'on extrait les features \n",
    "\n",
    "# fonction d'extraction de feature pour les noeuds\n",
    "def f(df):\n",
    "    # il faut bien garder les colonnes 'transcription' 'line' et 'label\n",
    "    # à part ces colonnes, toute colonne numérique dans le df rennvoyé sera utilisée comme feature\n",
    "    return df\n",
    "\n",
    "# fonction d'extraction de feature pour les arrêtes\n",
    "def g(df):\n",
    "    return df\n"
   ]
  },
  {
   "cell_type": "code",
   "execution_count": 5,
   "metadata": {},
   "outputs": [],
   "source": [
    "# on crée les graphes de train, validation et test en donnant les fonctions d'feature-extraction\n",
    "# de features et le ratio de validation (les vraies données de bases sont rechargées\n",
    "# et la même transformation est appliquée au train et au test !) \n",
    "\n",
    "train_graphs, validation_graphs, test_graphs = aja.get_graphs(f, g, 0.3)"
   ]
  },
  {
   "cell_type": "code",
   "execution_count": 6,
   "metadata": {},
   "outputs": [
    {
     "data": {
      "text/plain": [
       "{'TS3011b': Data(x=[985, 385], edge_index=[16], y=[985]),\n",
       " 'TS3011c': Data(x=[1017, 385], edge_index=[16], y=[1017]),\n",
       " 'TS3010c': Data(x=[689, 385], edge_index=[16], y=[689]),\n",
       " 'ES2005a': Data(x=[126, 385], edge_index=[16], y=[126]),\n",
       " 'IS1002b': Data(x=[782, 385], edge_index=[16], y=[782]),\n",
       " 'IS1000d': Data(x=[1377, 385], edge_index=[16], y=[1377]),\n",
       " 'ES2010d': Data(x=[563, 385], edge_index=[16], y=[563]),\n",
       " 'IS1006c': Data(x=[870, 385], edge_index=[16], y=[870]),\n",
       " 'ES2016d': Data(x=[647, 385], edge_index=[16], y=[647]),\n",
       " 'TS3009b': Data(x=[1207, 385], edge_index=[16], y=[1207]),\n",
       " 'IS1004b': Data(x=[672, 385], edge_index=[16], y=[672]),\n",
       " 'ES2006a': Data(x=[403, 385], edge_index=[16], y=[403]),\n",
       " 'IS1003c': Data(x=[869, 385], edge_index=[16], y=[869]),\n",
       " 'TS3008d': Data(x=[1328, 385], edge_index=[16], y=[1328]),\n",
       " 'IS1004c': Data(x=[839, 385], edge_index=[16], y=[839]),\n",
       " 'IS1006a': Data(x=[357, 385], edge_index=[16], y=[357]),\n",
       " 'ES2012d': Data(x=[450, 385], edge_index=[16], y=[450]),\n",
       " 'IS1007b': Data(x=[422, 385], edge_index=[16], y=[422]),\n",
       " 'ES2013a': Data(x=[248, 385], edge_index=[16], y=[248]),\n",
       " 'ES2009b': Data(x=[593, 385], edge_index=[16], y=[593]),\n",
       " 'TS3009d': Data(x=[1215, 385], edge_index=[16], y=[1215]),\n",
       " 'ES2002d': Data(x=[1207, 385], edge_index=[16], y=[1207]),\n",
       " 'ES2015d': Data(x=[1143, 385], edge_index=[16], y=[1143]),\n",
       " 'TS3010b': Data(x=[524, 385], edge_index=[16], y=[524]),\n",
       " 'IS1004a': Data(x=[196, 385], edge_index=[16], y=[196]),\n",
       " 'ES2013d': Data(x=[755, 385], edge_index=[16], y=[755]),\n",
       " 'ES2008d': Data(x=[1364, 385], edge_index=[16], y=[1364]),\n",
       " 'ES2013c': Data(x=[718, 385], edge_index=[16], y=[718]),\n",
       " 'ES2006c': Data(x=[869, 385], edge_index=[16], y=[869]),\n",
       " 'ES2009c': Data(x=[785, 385], edge_index=[16], y=[785]),\n",
       " 'IS1005c': Data(x=[572, 385], edge_index=[16], y=[572]),\n",
       " 'TS3005a': Data(x=[542, 385], edge_index=[16], y=[542]),\n",
       " 'IS1003d': Data(x=[1095, 385], edge_index=[16], y=[1095]),\n",
       " 'TS3008c': Data(x=[934, 385], edge_index=[16], y=[934]),\n",
       " 'ES2016c': Data(x=[557, 385], edge_index=[16], y=[557]),\n",
       " 'TS3010d': Data(x=[649, 385], edge_index=[16], y=[649]),\n",
       " 'IS1004d': Data(x=[886, 385], edge_index=[16], y=[886]),\n",
       " 'IS1000b': Data(x=[838, 385], edge_index=[16], y=[838]),\n",
       " 'ES2012a': Data(x=[345, 385], edge_index=[16], y=[345]),\n",
       " 'ES2002a': Data(x=[396, 385], edge_index=[16], y=[396]),\n",
       " 'IS1007d': Data(x=[717, 385], edge_index=[16], y=[717]),\n",
       " 'IS1006b': Data(x=[838, 385], edge_index=[16], y=[838]),\n",
       " 'TS3008a': Data(x=[471, 385], edge_index=[16], y=[471]),\n",
       " 'IS1001b': Data(x=[772, 385], edge_index=[16], y=[772]),\n",
       " 'TS3005c': Data(x=[1156, 385], edge_index=[16], y=[1156]),\n",
       " 'TS3008b': Data(x=[901, 385], edge_index=[16], y=[901]),\n",
       " 'ES2015c': Data(x=[960, 385], edge_index=[16], y=[960]),\n",
       " 'ES2013b': Data(x=[672, 385], edge_index=[16], y=[672]),\n",
       " 'IS1006d': Data(x=[1148, 385], edge_index=[16], y=[1148]),\n",
       " 'TS3009a': Data(x=[714, 385], edge_index=[16], y=[714]),\n",
       " 'IS1001c': Data(x=[515, 385], edge_index=[16], y=[515]),\n",
       " 'TS3012a': Data(x=[373, 385], edge_index=[16], y=[373]),\n",
       " 'ES2005c': Data(x=[1057, 385], edge_index=[16], y=[1057]),\n",
       " 'ES2007b': Data(x=[547, 385], edge_index=[16], y=[547]),\n",
       " 'ES2015a': Data(x=[357, 385], edge_index=[16], y=[357]),\n",
       " 'IS1000c': Data(x=[722, 385], edge_index=[16], y=[722]),\n",
       " 'ES2016a': Data(x=[481, 385], edge_index=[16], y=[481]),\n",
       " 'ES2006b': Data(x=[806, 385], edge_index=[16], y=[806]),\n",
       " 'IS1001d': Data(x=[379, 385], edge_index=[16], y=[379]),\n",
       " 'IS1003a': Data(x=[358, 385], edge_index=[16], y=[358]),\n",
       " 'TS3010a': Data(x=[212, 385], edge_index=[16], y=[212]),\n",
       " 'IS1002d': Data(x=[497, 385], edge_index=[16], y=[497]),\n",
       " 'ES2015b': Data(x=[973, 385], edge_index=[16], y=[973]),\n",
       " 'ES2008a': Data(x=[339, 385], edge_index=[16], y=[339]),\n",
       " 'ES2005b': Data(x=[815, 385], edge_index=[16], y=[815]),\n",
       " 'TS3012d': Data(x=[1283, 385], edge_index=[16], y=[1283]),\n",
       " 'ES2010a': Data(x=[229, 385], edge_index=[16], y=[229]),\n",
       " 'ES2007a': Data(x=[415, 385], edge_index=[16], y=[415])}"
      ]
     },
     "execution_count": 6,
     "metadata": {},
     "output_type": "execute_result"
    }
   ],
   "source": [
    "# on check la forme des data\n",
    "train_graphs\n",
    "# ici les noeuds ont 386 features"
   ]
  },
  {
   "cell_type": "code",
   "execution_count": 9,
   "metadata": {},
   "outputs": [],
   "source": [
    "# on définie son plus beau modèle\n",
    "\n",
    "class NodeClassifier(torch.nn.Module):\n",
    "    def __init__(self, channels, input_dim):\n",
    "        super(NodeClassifier, self).__init__()\n",
    "        self.channels = channels\n",
    "        self.sc1 = 40\n",
    "        self.f1 = 50\n",
    "        self.sc2 = 30\n",
    "        self.GCN1 = nn.ModuleList([GCNConv(input_dim, self.sc1) for _ in range(channels)])\n",
    "        self.dense1 = nn.Linear(self.sc1*channels, self.f1)\n",
    "        self.GCN2 = nn.ModuleList([GCNConv(self.f1, self.sc2) for _ in range(channels)])\n",
    "        self.dense2 = nn.Linear(self.sc2*channels, 2)\n",
    "\n",
    "    def forward(self, data):\n",
    "        nodes, edges = data.x, data.edge_index\n",
    "        # Appliquez les couches GCN avec une activation ReLU entre elles\n",
    "        x1 = []\n",
    "        for k in range(self.channels):\n",
    "            if len(edges[k]) == 0:\n",
    "                x = torch.zeros(nodes.shape[0], self.sc1)\n",
    "            else:\n",
    "                x = F.relu(self.GCN1[k](nodes, edges[k]))\n",
    "            x1.append(x)\n",
    "        x1_f = torch.cat(x1, dim=1)\n",
    "\n",
    "        f1 = F.relu(self.dense1(x1_f))\n",
    "\n",
    "        x2 = []\n",
    "        for k in range(self.channels):\n",
    "            if len(edges[k]) == 0:\n",
    "                x = torch.zeros(nodes.shape[0], self.sc2)\n",
    "            else:\n",
    "                x = F.relu(self.GCN2[k](f1, edges[k]))\n",
    "            x1.append(x)\n",
    "            x2.append(x)\n",
    "        x2_f = torch.cat(x2, dim=1)\n",
    "\n",
    "        x_out = self.dense2(x2_f)\n",
    "\n",
    "        return F.log_softmax(x_out, dim=1)"
   ]
  },
  {
   "cell_type": "code",
   "execution_count": 49,
   "metadata": {},
   "outputs": [
    {
     "name": "stdout",
     "output_type": "stream",
     "text": [
      "- Epoch 000 -\n",
      "Loss: 26.1271\n",
      "F1 train: 0.2937271610642893\n",
      "F1 valid: 0.2812595479312178\n",
      "- Epoch 001 -\n",
      "Loss: 24.7341\n",
      "F1 train: 0.4777685866171371\n",
      "F1 valid: 0.444481501715708\n",
      "- Epoch 002 -\n",
      "Loss: 23.3626\n",
      "F1 train: 0.47310011479017494\n",
      "F1 valid: 0.42265849152819157\n",
      "- Epoch 003 -\n",
      "Loss: 22.5654\n",
      "F1 train: 0.47952921635560675\n",
      "F1 valid: 0.40420766986416995\n",
      "- Epoch 004 -\n",
      "Loss: 21.8487\n",
      "F1 train: 0.41163207334978175\n",
      "F1 valid: 0.3259058058169982\n",
      "- Epoch 005 -\n",
      "Loss: 21.2873\n",
      "F1 train: 0.6239182820799346\n",
      "F1 valid: 0.5105740382269702\n",
      "- Epoch 006 -\n",
      "Loss: 20.1744\n",
      "F1 train: 0.6177888063112088\n",
      "F1 valid: 0.4890510194046625\n"
     ]
    }
   ],
   "source": [
    "# on instancie le modèle\n",
    "model = NodeClassifier(16,385)\n",
    "\n",
    "# on définie la fonction de perte et l'optimiseur\n",
    "criterion = torch.nn.CrossEntropyLoss()\n",
    "optimizer = torch.optim.Adam(model.parameters(), lr=0.01)\n",
    "\n",
    "\n",
    "# on entraine !\n",
    "\n",
    "states = []\n",
    "\n",
    "for epoch in range(7):\n",
    "    loss = aja.train(model, train_graphs, optimizer, criterion)\n",
    "    print('- Epoch', f'{epoch:03d}', '-')\n",
    "    print('Loss:',  f'{loss:.4f}')\n",
    "    f1_train = aja.f1_score_moyen(model, train_graphs)\n",
    "    f1_valid = aja.f1_score_moyen(model, validation_graphs)\n",
    "    print('F1 train:', f1_train)\n",
    "    print('F1 valid:', f1_valid)\n",
    "    torch.save(model.state_dict(), \"training_states/\"+str(epoch) + \".pth\")\n",
    "    print('')"
   ]
  },
  {
   "cell_type": "code",
   "execution_count": 50,
   "metadata": {},
   "outputs": [
    {
     "name": "stdout",
     "output_type": "stream",
     "text": [
      "-------------------------\n",
      "Analyse des performance du modèle :\n",
      "-------------------------\n",
      "F1-score: 0.5105740382269702\n"
     ]
    },
    {
     "data": {
      "image/png": "[encoded data removed]",
      "text/plain": [
       "<Figure size 300x300 with 1 Axes>"
      ]
     },
     "metadata": {},
     "output_type": "display_data"
    }
   ],
   "source": [
    "model_final = NodeClassifier(16,385)\n",
    "\n",
    "# on peut revenir à un modèle intermédiaire pour éviter l'overfitting\n",
    "epoch_opt = 5\n",
    "model_final.load_state_dict(torch.load(\"training_states/\"+str(epoch_opt)+\".pth\"))\n",
    "\n",
    "# on analyse le modèle\n",
    "aja.analyse_model(model_final, validation_graphs)"
   ]
  },
  {
   "cell_type": "code",
   "execution_count": 51,
   "metadata": {},
   "outputs": [],
   "source": [
    "# quand on est content on fait une submission !\n",
    "\n",
    "aja.make_test_csv_submission(model_final, test_graphs, 'early_stopping')"
   ]
  },
  {
   "cell_type": "code",
   "execution_count": null,
   "metadata": {},
   "outputs": [],
   "source": []
  }
 ],
 "metadata": {
  "kernelspec": {
   "display_name": "base",
   "language": "python",
   "name": "python3"
  },
  "language_info": {
   "codemirror_mode": {
    "name": "ipython",
    "version": 3
   },
   "file_extension": ".py",
   "mimetype": "text/x-python",
   "name": "python",
   "nbconvert_exporter": "python",
   "pygments_lexer": "ipython3",
   "version": "3.9.12"
  }
 },
 "nbformat": 4,
 "nbformat_minor": 2
}
