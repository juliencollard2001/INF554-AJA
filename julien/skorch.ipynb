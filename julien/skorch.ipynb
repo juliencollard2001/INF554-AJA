{
 "cells": [
  {
   "cell_type": "code",
   "execution_count": 7,
   "metadata": {},
   "outputs": [],
   "source": [
    "import json\n",
    "from pathlib import Path\n",
    "import numpy as np\n",
    "import matplotlib.pyplot as plt\n",
    "from tqdm import tqdm \n",
    "import torch\n",
    "from torch_geometric.data import Data\n",
    "import torch.nn as nn\n",
    "from torch_geometric.nn import GCNConv\n",
    "import torch.nn.functional as F\n",
    "from torch_geometric.loader import DataLoader\n",
    "import pandas as pd\n",
    "import difflib\n",
    "\n",
    "import sys\n",
    "sys.path.append('../AJA')\n",
    "import AJA as aja"
   ]
  },
  {
   "cell_type": "code",
   "execution_count": 3,
   "metadata": {},
   "outputs": [],
   "source": [
    "# récupération des données \n",
    "df_train_nodes, df_train_edges, df_test_nodes, df_test_edges = aja.get_data()"
   ]
  },
  {
   "cell_type": "code",
   "execution_count": 4,
   "metadata": {},
   "outputs": [],
   "source": [
    "# feature extraction\n",
    "\n",
    "from sklearn.preprocessing import StandardScaler\n",
    "\n",
    "# node\n",
    "\n",
    "scaler = StandardScaler()\n",
    "# sentence length normalized\n",
    "df_train_nodes['sentence_length'] = df_train_nodes['text'].apply(lambda s: len(s.split()))\n",
    "df_train_nodes['sentence_length'] = scaler.fit_transform(df_train_nodes['sentence_length'].values.reshape(-1, 1))\n",
    "df_test_nodes['sentence_length'] = df_test_nodes['text'].apply(lambda s: len(s.split()))\n",
    "df_test_nodes['sentence_length'] = scaler.transform(df_test_nodes['sentence_length'].values.reshape(-1, 1))\n",
    "\n",
    "df_train_nodes['nb_occurences'] = df_train_nodes['text'].apply(lambda x: sum(x.split().count(mot) for mot in ['uh', 'um', 'okay', '<', 'ah', 'oh']))\n",
    "df_train_nodes['nb_occurences'] = scaler.fit_transform(df_train_nodes['nb_occurences'].values.reshape(-1, 1))\n",
    "df_test_nodes['nb_occurences'] = df_test_nodes['text'].apply(lambda x: sum(x.split().count(mot) for mot in ['uh', 'um', 'okay', '<', 'ah', 'oh']))\n",
    "df_test_nodes['nb_occurences'] = scaler.transform(df_test_nodes['nb_occurences'].values.reshape(-1, 1))\n",
    "\n",
    "\n",
    "df_train_nodes['nb_words_more_5'] = df_train_nodes['text'].apply(lambda x: sum(len(mot) > 5 and mot.lower() != '<vocalsound>' for mot in x.split()))\n",
    "df_train_nodes['nb_words_more_5'] = scaler.fit_transform(df_train_nodes['nb_words_more_5'].values.reshape(-1, 1))\n",
    "df_test_nodes['nb_words_more_5'] = df_test_nodes['text'].apply(lambda x: sum(len(mot) > 5 and mot.lower() != '<vocalsound>' for mot in x.split()))\n",
    "df_test_nodes['nb_words_more_5'] = scaler.transform(df_test_nodes['nb_words_more_5'].values.reshape(-1, 1))\n",
    "\n",
    "\n",
    "# speaker hot-one encoding\n",
    "one_hot_encoded = pd.get_dummies(df_train_nodes['speaker_int'], prefix='speaker', dtype=int)\n",
    "df_train_nodes = df_train_nodes.drop('speaker_int', axis=1)\n",
    "df_train_nodes = df_train_nodes.drop('speaker_text', axis=1)\n",
    "df_train_nodes = pd.concat([df_train_nodes, one_hot_encoded], axis=1)\n",
    "\n",
    "one_hot_encoded = pd.get_dummies(df_test_nodes['speaker_int'], prefix='speaker', dtype=int)\n",
    "df_test_nodes = df_test_nodes.drop('speaker_int', axis=1)\n",
    "df_test_nodes = df_test_nodes.drop('speaker_text', axis=1)\n",
    "df_test_nodes = pd.concat([df_test_nodes, one_hot_encoded], axis=1)\n",
    "\n",
    "# edge\n",
    "\n",
    "new_df = pd.DataFrame({\n",
    "        'transcription': df_train_edges['transcription'],\n",
    "        'start': df_train_edges['end'],\n",
    "        'end': df_train_edges['start'],\n",
    "        'type_int': 16 + df_train_edges['type_int'],\n",
    "        'type_text': df_train_edges['type_text'] + \"_reverse\"\n",
    "    })\n",
    "df_train_edges = pd.concat([df_train_edges, new_df], ignore_index=True)\n",
    "\n",
    "new_df = pd.DataFrame({\n",
    "        'transcription': df_test_edges['transcription'],\n",
    "        'start': df_test_edges['end'],\n",
    "        'end': df_test_edges['start'],\n",
    "        'type_int': 16 + df_test_edges['type_int'],\n",
    "        'type_text': df_test_edges['type_text'] + \"_reverse\"\n",
    "    })\n",
    "df_test_edges = pd.concat([df_test_edges, new_df], ignore_index=True)"
   ]
  },
  {
   "cell_type": "code",
   "execution_count": 9,
   "metadata": {},
   "outputs": [],
   "source": [
    "# Charger l'extension autoreload\n",
    "%load_ext autoreload\n",
    "\n",
    "# Configurer autoreload pour recharger tous les modules avant l'exécution de chaque cellule\n",
    "%autoreload 2"
   ]
  },
  {
   "cell_type": "code",
   "execution_count": 11,
   "metadata": {},
   "outputs": [
    {
     "ename": "AttributeError",
     "evalue": "module 'AJA' has no attribute 'train_valdiation_split'",
     "output_type": "error",
     "traceback": [
      "\u001b[0;31m---------------------------------------------------------------------------\u001b[0m",
      "\u001b[0;31mAttributeError\u001b[0m                            Traceback (most recent call last)",
      "\u001b[1;32m/workspaces/INF554-AJA/julien/skorch.ipynb Cellule 5\u001b[0m line \u001b[0;36m3\n\u001b[1;32m      <a href='vscode-notebook-cell://codespaces%2Bjupyter-server-rv947rxjg5j3pv9v/workspaces/INF554-AJA/julien/skorch.ipynb#W2sdnNjb2RlLXJlbW90ZQ%3D%3D?line=0'>1</a>\u001b[0m \u001b[39m# creation des graphs\u001b[39;00m\n\u001b[1;32m      <a href='vscode-notebook-cell://codespaces%2Bjupyter-server-rv947rxjg5j3pv9v/workspaces/INF554-AJA/julien/skorch.ipynb#W2sdnNjb2RlLXJlbW90ZQ%3D%3D?line=1'>2</a>\u001b[0m train_graphs, test_graphs \u001b[39m=\u001b[39m aja\u001b[39m.\u001b[39mmake_graphs(df_train_nodes, df_train_edges, df_test_nodes, df_test_edges)\n\u001b[0;32m----> <a href='vscode-notebook-cell://codespaces%2Bjupyter-server-rv947rxjg5j3pv9v/workspaces/INF554-AJA/julien/skorch.ipynb#W2sdnNjb2RlLXJlbW90ZQ%3D%3D?line=2'>3</a>\u001b[0m train_graphs, valid_graphs \u001b[39m=\u001b[39m aja\u001b[39m.\u001b[39;49mtrain_valdiation_split(train_graphs, \u001b[39m0.8\u001b[39m)\n",
      "\u001b[0;31mAttributeError\u001b[0m: module 'AJA' has no attribute 'train_valdiation_split'"
     ]
    }
   ],
   "source": [
    "# creation des graphs\n",
    "train_graphs, test_graphs = aja.make_graphs(df_train_nodes, df_train_edges, df_test_nodes, df_test_edges)\n",
    "train_graphs, valid_graphs = aja.train_valdiation_split(train_graphs, 0.8)"
   ]
  },
  {
   "cell_type": "code",
   "execution_count": null,
   "metadata": {},
   "outputs": [],
   "source": [
    "train_graphs"
   ]
  },
  {
   "cell_type": "code",
   "execution_count": null,
   "metadata": {},
   "outputs": [],
   "source": []
  }
 ],
 "metadata": {
  "kernelspec": {
   "display_name": "Python 3",
   "language": "python",
   "name": "python3"
  },
  "language_info": {
   "codemirror_mode": {
    "name": "ipython",
    "version": 3
   },
   "file_extension": ".py",
   "mimetype": "text/x-python",
   "name": "python",
   "nbconvert_exporter": "python",
   "pygments_lexer": "ipython3",
   "version": "3.10.8"
  }
 },
 "nbformat": 4,
 "nbformat_minor": 2
}
