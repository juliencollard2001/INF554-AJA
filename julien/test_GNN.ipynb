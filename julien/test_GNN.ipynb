{
 "cells": [
  {
   "cell_type": "code",
   "execution_count": 2,
   "metadata": {},
   "outputs": [],
   "source": [
    "import json\n",
    "from pathlib import Path\n",
    "import numpy as np\n",
    "import networkx as nx\n",
    "import matplotlib.pyplot as plt\n",
    "from tqdm import tqdm \n",
    "\n",
    "def flatten(list_of_list):\n",
    "    return [item for sublist in list_of_list for item in sublist]\n",
    "\n",
    "path_to_training = Path(\"data/training\")\n",
    "path_to_test = Path(\"data/test\")"
   ]
  },
  {
   "cell_type": "code",
   "execution_count": 5,
   "metadata": {},
   "outputs": [],
   "source": [
    "#####\n",
    "# training and test sets of transcription ids\n",
    "#####\n",
    "training_set = ['ES2002', 'ES2005', 'ES2006', 'ES2007', 'ES2008', 'ES2009', 'ES2010', 'ES2012', 'ES2013', 'ES2015', 'ES2016', 'IS1000', 'IS1001', 'IS1002', 'IS1003', 'IS1004', 'IS1005', 'IS1006', 'IS1007', 'TS3005', 'TS3008', 'TS3009', 'TS3010', 'TS3011', 'TS3012']\n",
    "training_set = flatten([[m_id+s_id for s_id in 'abcd'] for m_id in training_set])\n",
    "training_set.remove('IS1002a')\n",
    "training_set.remove('IS1005d')\n",
    "training_set.remove('TS3012c')\n",
    "\n",
    "test_set = ['ES2003', 'ES2004', 'ES2011', 'ES2014', 'IS1008', 'IS1009', 'TS3003', 'TS3004', 'TS3006', 'TS3007']\n",
    "test_set = flatten([[m_id+s_id for s_id in 'abcd'] for m_id in test_set])"
   ]
  },
  {
   "cell_type": "code",
   "execution_count": 6,
   "metadata": {},
   "outputs": [
    {
     "name": "stdout",
     "output_type": "stream",
     "text": [
      "16\n"
     ]
    }
   ],
   "source": [
    "graph_links_labels= set()\n",
    "for id in training_set:\n",
    "    with open(path_to_training / f\"{id}.txt\", \"r\") as graphe:\n",
    "        for line in graphe:\n",
    "            l = line.split()\n",
    "            graph_links_labels.add(l[1])\n",
    "L = list(graph_links_labels)\n",
    "int2label = {indice: valeur for indice, valeur in enumerate(L)}\n",
    "label2int = {valeur: indice for indice, valeur in enumerate(L)}\n",
    "label2int\n",
    "N_vocab_links = len(L)\n",
    "print(N_vocab_links)"
   ]
  },
  {
   "cell_type": "code",
   "execution_count": 7,
   "metadata": {},
   "outputs": [],
   "source": [
    "def feature_extract_train(transcription_id):\n",
    "    path_to_training = Path(\"data/training\")\n",
    "    bert_array = np.load('feature-extraction/bert/training/' + transcription_id +'.npy')\n",
    "    N_nodes = bert_array.shape[0]\n",
    "    edges = np.zeros(shape=(2*N_vocab_links,N_nodes,N_nodes),dtype=bool)\n",
    "    with open(path_to_training / f\"{transcription_id}.txt\", \"r\") as graphe:\n",
    "        for line in graphe:\n",
    "            l = line.split()\n",
    "            i = int(l[0])\n",
    "            j =  int(l[2])\n",
    "            edge_type = label2int[l[1]] - 1\n",
    "            #print('from', i, 'to', j, 'type', edge_type)\n",
    "            edges[edge_type,i,j] = True\n",
    "            edges[N_vocab_links + edge_type, j, i] = True\n",
    "\n",
    "    return bert_array, edges\n",
    "\n",
    "def get_labels(transcription_id):\n",
    "    with open(\"data/training_labels.json\", \"r\") as file:\n",
    "        training_labels = json.load(file)\n",
    "    return np.array(training_labels[transcription_id]).reshape(-1,1)"
   ]
  },
  {
   "cell_type": "code",
   "execution_count": 8,
   "metadata": {},
   "outputs": [],
   "source": [
    "X_train_nodes = []\n",
    "X_train_edges = []\n",
    "y_train = []\n",
    "for id in training_set:\n",
    "    nodes, edges = feature_extract_train(id)\n",
    "    y = get_labels(id)\n",
    "    X_train_nodes.append(nodes)\n",
    "    X_train_edges.append(edges)\n",
    "    y_train.append(y)\n"
   ]
  },
  {
   "cell_type": "code",
   "execution_count": 9,
   "metadata": {},
   "outputs": [],
   "source": [
    "import tensorflow as tf\n",
    "from spektral.layers import GCNConv\n",
    "\n",
    "def create_model(nb_canaux, dim_embedding, dim_post_conv, nb_nodes=None):\n",
    "\n",
    "    node_features = tf.keras.Input(shape=(nb_nodes, dim_embedding), name=\"node_features\")\n",
    "    edge_features = tf.keras.Input(shape=(nb_canaux, nb_nodes, nb_nodes), name=\"edge_features\")\n",
    "\n",
    "    graph_conv_outputs = []\n",
    "    for i in range(nb_canaux):\n",
    "        adjacency_matrix = edge_features[:,i,:,:]\n",
    "        GCN = GCNConv(dim_post_conv, activation='relu', name=\"GCN_\"+str(i))\n",
    "        graph_conv_output = GCN([node_features, adjacency_matrix])\n",
    "        graph_conv_outputs.append(graph_conv_output)\n",
    "\n",
    "    concatenated = tf.keras.layers.Concatenate(axis=2, name='concat')(graph_conv_outputs)\n",
    "    end = tf.keras.layers.Dense(200)(concatenated)\n",
    "    output = tf.keras.layers.Dense(1, activation='sigmoid')(end)\n",
    "\n",
    "    model = tf.keras.Model(inputs=[node_features, edge_features], outputs=output)\n",
    "    return model\n",
    "\n",
    "\n",
    "model = create_model(2*N_vocab_links, 384, 10, None)\n",
    "\n",
    "model.compile(optimizer='adam',  \n",
    "              loss='binary_crossentropy',  \n",
    "              metrics=['accuracy'])\n"
   ]
  },
  {
   "cell_type": "code",
   "execution_count": null,
   "metadata": {},
   "outputs": [],
   "source": []
  },
  {
   "cell_type": "code",
   "execution_count": 11,
   "metadata": {},
   "outputs": [
    {
     "name": "stdout",
     "output_type": "stream",
     "text": [
      "(396, 384)\n",
      "(32, 396, 396)\n",
      "(396, 1)\n"
     ]
    },
    {
     "ename": "ValueError",
     "evalue": "Data cardinality is ambiguous:\n  x sizes: 396, 897, 924, 1207, 126, 815, 1057, 669, 403, 806, 869, 1047, 415, 547, 765, 518, 339, 856, 860, 1364, 791, 593, 785, 1082, 229, 648, 722, 563, 345, 738, 915, 450, 248, 672, 718, 755, 357, 973, 960, 1143, 481, 713, 557, 647, 585, 838, 722, 1377, 254, 772, 515, 379, 782, 754, 497, 358, 641, 869, 1095, 196, 672, 839, 886, 249, 614, 572, 357, 838, 870, 1148, 336, 422, 667, 717, 542, 1318, 1156, 2160, 471, 901, 934, 1328, 714, 1207, 1275, 1215, 212, 524, 689, 649, 486, 985, 1017, 911, 373, 1487, 1283, 32, 32, 32, 32, 32, 32, 32, 32, 32, 32, 32, 32, 32, 32, 32, 32, 32, 32, 32, 32, 32, 32, 32, 32, 32, 32, 32, 32, 32, 32, 32, 32, 32, 32, 32, 32, 32, 32, 32, 32, 32, 32, 32, 32, 32, 32, 32, 32, 32, 32, 32, 32, 32, 32, 32, 32, 32, 32, 32, 32, 32, 32, 32, 32, 32, 32, 32, 32, 32, 32, 32, 32, 32, 32, 32, 32, 32, 32, 32, 32, 32, 32, 32, 32, 32, 32, 32, 32, 32, 32, 32, 32, 32, 32, 32, 32, 32\n  y sizes: 100\nMake sure all arrays contain the same number of samples.",
     "output_type": "error",
     "traceback": [
      "\u001b[1;31m---------------------------------------------------------------------------\u001b[0m",
      "\u001b[1;31mValueError\u001b[0m                                Traceback (most recent call last)",
      "\u001b[1;32mc:\\Users\\julie\\Documents\\Polytechnique\\3A\\INF\\Kagle\\INF554-AJA\\julien\\test_GNN.ipynb Cell 8\u001b[0m line \u001b[0;36m8\n\u001b[0;32m      <a href='vscode-notebook-cell:/c%3A/Users/julie/Documents/Polytechnique/3A/INF/Kagle/INF554-AJA/julien/test_GNN.ipynb#X10sZmlsZQ%3D%3D?line=4'>5</a>\u001b[0m X_train \u001b[39m=\u001b[39m np\u001b[39m.\u001b[39mrandom\u001b[39m.\u001b[39mrandom((\u001b[39m100\u001b[39m, \u001b[39m5\u001b[39m, \u001b[39m384\u001b[39m))\n\u001b[0;32m      <a href='vscode-notebook-cell:/c%3A/Users/julie/Documents/Polytechnique/3A/INF/Kagle/INF554-AJA/julien/test_GNN.ipynb#X10sZmlsZQ%3D%3D?line=5'>6</a>\u001b[0m y_train \u001b[39m=\u001b[39m np\u001b[39m.\u001b[39mrandom\u001b[39m.\u001b[39mrandint(\u001b[39m2\u001b[39m, size\u001b[39m=\u001b[39m(\u001b[39m100\u001b[39m, \u001b[39m5\u001b[39m, \u001b[39m1\u001b[39m))\n\u001b[1;32m----> <a href='vscode-notebook-cell:/c%3A/Users/julie/Documents/Polytechnique/3A/INF/Kagle/INF554-AJA/julien/test_GNN.ipynb#X10sZmlsZQ%3D%3D?line=7'>8</a>\u001b[0m model\u001b[39m.\u001b[39;49mfit([X_train_nodes, X_train_edges], y_train, epochs\u001b[39m=\u001b[39;49m\u001b[39m2\u001b[39;49m,batch_size\u001b[39m=\u001b[39;49m\u001b[39m50\u001b[39;49m)\n",
      "File \u001b[1;32mc:\\Users\\julie\\miniconda3\\lib\\site-packages\\keras\\src\\utils\\traceback_utils.py:70\u001b[0m, in \u001b[0;36mfilter_traceback.<locals>.error_handler\u001b[1;34m(*args, **kwargs)\u001b[0m\n\u001b[0;32m     67\u001b[0m     filtered_tb \u001b[39m=\u001b[39m _process_traceback_frames(e\u001b[39m.\u001b[39m__traceback__)\n\u001b[0;32m     68\u001b[0m     \u001b[39m# To get the full stack trace, call:\u001b[39;00m\n\u001b[0;32m     69\u001b[0m     \u001b[39m# `tf.debugging.disable_traceback_filtering()`\u001b[39;00m\n\u001b[1;32m---> 70\u001b[0m     \u001b[39mraise\u001b[39;00m e\u001b[39m.\u001b[39mwith_traceback(filtered_tb) \u001b[39mfrom\u001b[39;00m \u001b[39mNone\u001b[39m\n\u001b[0;32m     71\u001b[0m \u001b[39mfinally\u001b[39;00m:\n\u001b[0;32m     72\u001b[0m     \u001b[39mdel\u001b[39;00m filtered_tb\n",
      "File \u001b[1;32mc:\\Users\\julie\\miniconda3\\lib\\site-packages\\keras\\src\\engine\\data_adapter.py:1960\u001b[0m, in \u001b[0;36m_check_data_cardinality\u001b[1;34m(data)\u001b[0m\n\u001b[0;32m   1953\u001b[0m     msg \u001b[39m+\u001b[39m\u001b[39m=\u001b[39m \u001b[39m\"\u001b[39m\u001b[39m  \u001b[39m\u001b[39m{}\u001b[39;00m\u001b[39m sizes: \u001b[39m\u001b[39m{}\u001b[39;00m\u001b[39m\\n\u001b[39;00m\u001b[39m\"\u001b[39m\u001b[39m.\u001b[39mformat(\n\u001b[0;32m   1954\u001b[0m         label,\n\u001b[0;32m   1955\u001b[0m         \u001b[39m\"\u001b[39m\u001b[39m, \u001b[39m\u001b[39m\"\u001b[39m\u001b[39m.\u001b[39mjoin(\n\u001b[0;32m   1956\u001b[0m             \u001b[39mstr\u001b[39m(i\u001b[39m.\u001b[39mshape[\u001b[39m0\u001b[39m]) \u001b[39mfor\u001b[39;00m i \u001b[39min\u001b[39;00m tf\u001b[39m.\u001b[39mnest\u001b[39m.\u001b[39mflatten(single_data)\n\u001b[0;32m   1957\u001b[0m         ),\n\u001b[0;32m   1958\u001b[0m     )\n\u001b[0;32m   1959\u001b[0m msg \u001b[39m+\u001b[39m\u001b[39m=\u001b[39m \u001b[39m\"\u001b[39m\u001b[39mMake sure all arrays contain the same number of samples.\u001b[39m\u001b[39m\"\u001b[39m\n\u001b[1;32m-> 1960\u001b[0m \u001b[39mraise\u001b[39;00m \u001b[39mValueError\u001b[39;00m(msg)\n",
      "\u001b[1;31mValueError\u001b[0m: Data cardinality is ambiguous:\n  x sizes: 396, 897, 924, 1207, 126, 815, 1057, 669, 403, 806, 869, 1047, 415, 547, 765, 518, 339, 856, 860, 1364, 791, 593, 785, 1082, 229, 648, 722, 563, 345, 738, 915, 450, 248, 672, 718, 755, 357, 973, 960, 1143, 481, 713, 557, 647, 585, 838, 722, 1377, 254, 772, 515, 379, 782, 754, 497, 358, 641, 869, 1095, 196, 672, 839, 886, 249, 614, 572, 357, 838, 870, 1148, 336, 422, 667, 717, 542, 1318, 1156, 2160, 471, 901, 934, 1328, 714, 1207, 1275, 1215, 212, 524, 689, 649, 486, 985, 1017, 911, 373, 1487, 1283, 32, 32, 32, 32, 32, 32, 32, 32, 32, 32, 32, 32, 32, 32, 32, 32, 32, 32, 32, 32, 32, 32, 32, 32, 32, 32, 32, 32, 32, 32, 32, 32, 32, 32, 32, 32, 32, 32, 32, 32, 32, 32, 32, 32, 32, 32, 32, 32, 32, 32, 32, 32, 32, 32, 32, 32, 32, 32, 32, 32, 32, 32, 32, 32, 32, 32, 32, 32, 32, 32, 32, 32, 32, 32, 32, 32, 32, 32, 32, 32, 32, 32, 32, 32, 32, 32, 32, 32, 32, 32, 32, 32, 32, 32, 32, 32, 32\n  y sizes: 100\nMake sure all arrays contain the same number of samples."
     ]
    }
   ],
   "source": [
    "print(X_train_nodes[0].shape)\n",
    "print(X_train_edges[0].shape)\n",
    "print(y_train[0].shape)\n",
    "\n",
    "X_train_nodes = np.random.random((100, 5, 384))\n",
    "X_train_edges = np.random.random((100, 5, 384))\n",
    "y_train = np.random.randint(2, size=(100, 5, 1))\n",
    "\n",
    "model.fit([X_train_nodes, X_train_edges], y_train, epochs=2,batch_size=50)"
   ]
  },
  {
   "cell_type": "code",
   "execution_count": null,
   "metadata": {},
   "outputs": [],
   "source": []
  },
  {
   "cell_type": "code",
   "execution_count": null,
   "metadata": {},
   "outputs": [],
   "source": [
    "\n",
    "def create_model(nb_canaux, dim_embedding, dim_post_conv, nb_nodes=None):\n",
    "\n",
    "    imput = tf.keras.Input(shape=(nb_nodes, nb_nodes, dim_embedding,nb_canaux), name=\"imput\")\n",
    "    nodes = imput[:,:,0,:,0]\n",
    "\n",
    "    graph_conv_outputs = []\n",
    "    for i in range(nb_canaux):\n",
    "        adjacency_matrix = imput[:,:,:,0,i]\n",
    "        GCN = GCNConv(dim_post_conv, activation='relu', name=\"GCN_\"+str(i))\n",
    "        graph_conv_output = GCN([nodes, adjacency_matrix])\n",
    "        graph_conv_outputs.append(graph_conv_output)\n",
    "\n",
    "    concatenated = tf.keras.layers.Concatenate(axis=2, name='concat')(graph_conv_outputs)\n",
    "    end = tf.keras.layers.Dense(200)(concatenated)\n",
    "    output = tf.keras.layers.Dense(1, activation='sigmoid')(end)\n",
    "\n",
    "    model = tf.keras.Model(inputs=imput, outputs=output)\n",
    "    return model"
   ]
  }
 ],
 "metadata": {
  "kernelspec": {
   "display_name": "base",
   "language": "python",
   "name": "python3"
  },
  "language_info": {
   "codemirror_mode": {
    "name": "ipython",
    "version": 3
   },
   "file_extension": ".py",
   "mimetype": "text/x-python",
   "name": "python",
   "nbconvert_exporter": "python",
   "pygments_lexer": "ipython3",
   "version": "3.9.12"
  }
 },
 "nbformat": 4,
 "nbformat_minor": 2
}
