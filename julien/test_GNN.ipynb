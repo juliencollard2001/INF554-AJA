{
 "cells": [
  {
   "cell_type": "code",
   "execution_count": 1,
   "metadata": {},
   "outputs": [],
   "source": [
    "import json\n",
    "from pathlib import Path\n",
    "import numpy as np\n",
    "import networkx as nx\n",
    "import matplotlib.pyplot as plt\n",
    "from tqdm import tqdm \n",
    "\n",
    "def flatten(list_of_list):\n",
    "    return [item for sublist in list_of_list for item in sublist]\n",
    "\n",
    "path_to_training = Path(\"data/training\")\n",
    "path_to_test = Path(\"data/test\")"
   ]
  },
  {
   "cell_type": "code",
   "execution_count": 2,
   "metadata": {},
   "outputs": [],
   "source": [
    "#####\n",
    "# training and test sets of transcription ids\n",
    "#####\n",
    "training_set = ['ES2002', 'ES2005', 'ES2006', 'ES2007', 'ES2008', 'ES2009', 'ES2010', 'ES2012', 'ES2013', 'ES2015', 'ES2016', 'IS1000', 'IS1001', 'IS1002', 'IS1003', 'IS1004', 'IS1005', 'IS1006', 'IS1007', 'TS3005', 'TS3008', 'TS3009', 'TS3010', 'TS3011', 'TS3012']\n",
    "training_set = flatten([[m_id+s_id for s_id in 'abcd'] for m_id in training_set])\n",
    "training_set.remove('IS1002a')\n",
    "training_set.remove('IS1005d')\n",
    "training_set.remove('TS3012c')\n",
    "\n",
    "test_set = ['ES2003', 'ES2004', 'ES2011', 'ES2014', 'IS1008', 'IS1009', 'TS3003', 'TS3004', 'TS3006', 'TS3007']\n",
    "test_set = flatten([[m_id+s_id for s_id in 'abcd'] for m_id in test_set])"
   ]
  },
  {
   "cell_type": "code",
   "execution_count": 3,
   "metadata": {},
   "outputs": [],
   "source": [
    "graph_links_labels= set()\n",
    "for id in training_set:\n",
    "    with open(path_to_training / f\"{id}.txt\", \"r\") as graphe:\n",
    "        for line in graphe:\n",
    "            l = line.split()\n",
    "            graph_links_labels.add(l[1])\n",
    "L = list(graph_links_labels)\n",
    "int2label = {indice: valeur for indice, valeur in enumerate(L)}\n",
    "label2int = {valeur: indice for indice, valeur in enumerate(L)}\n",
    "label2int\n",
    "N_vocab_links = len(L)"
   ]
  },
  {
   "cell_type": "code",
   "execution_count": 4,
   "metadata": {},
   "outputs": [],
   "source": [
    "def feature_extract(transcription_id, is_test=False):\n",
    "    path_to_training = Path(\"data/training\")\n",
    "    path_to_test = Path(\"data/test\")\n",
    "    path_jsaon = path_to_test if is_test else path_to_training\n",
    "    with open(path_jsaon / f\"{transcription_id}.json\", \"r\") as file:\n",
    "        json_transcription = json.load(file)\n",
    "    bert_array = np.load('feature-extraction/bert/' + ('test/' if is_test else 'training/') + transcription_id +'.npy')\n",
    "    G = nx.DiGraph()\n",
    "    with open(path_jsaon / f\"{transcription_id}.txt\", \"r\") as graphe:\n",
    "        for line in graphe:\n",
    "            l = line.split()\n",
    "            G.add_edge(int(l[0]), int(l[2]), edge_type=label2int[l[1]])\n",
    "    for i in range(len(G.nodes)):\n",
    "        G.nodes[i]['feature'] = bert_array[i]\n",
    "\n",
    "    # Define node and edge features\n",
    "    node_features = np.array([G.nodes[i]['features'] for i in G.nodes])\n",
    "    edge_features = np.array([G.edges[i, j]['edge_type'] for i, j in G.edges])\n",
    "\n",
    "    # Create StellarGraph object\n",
    "    return G\n",
    "\n",
    "def get_labels(transcription_id):\n",
    "    with open(\"data/training_labels.json\", \"r\") as file:\n",
    "        training_labels = json.load(file)\n",
    "    return training_labels[transcription_id]"
   ]
  },
  {
   "cell_type": "code",
   "execution_count": 62,
   "metadata": {},
   "outputs": [
    {
     "data": {
      "text/plain": [
       "<keras.src.engine.functional.Functional at 0x19501291f40>"
      ]
     },
     "execution_count": 62,
     "metadata": {},
     "output_type": "execute_result"
    }
   ],
   "source": [
    "import tensorflow as tf\n",
    "from spektral.layers import GCNConv\n",
    "\n",
    "def create_model(nb_canaux, dim_embedding, dim_post_conv, nb_nodes=None):\n",
    "\n",
    "    node_features = tf.keras.Input(shape=(nb_nodes, dim_embedding), name=\"node_features\")\n",
    "    edge_features = tf.keras.Input(shape=(nb_canaux, nb_nodes, nb_nodes), name=\"edge_features\")\n",
    "\n",
    "    adjacency_matrices = [...]  # Liste de vos 16 matrices d'adjacence\n",
    "\n",
    "    # Utilisation de 16 couches GraphConv avec différentes matrices d'adjacence\n",
    "    graph_conv_outputs = []\n",
    "    for i in range(nb_canaux):\n",
    "        #flattened_size = tf.reduce_prod(tf.shape(edge_features[:,i,:,:])[1:], name='proj-'+str(i))\n",
    "        #adjacency_matrix = tf.reshape(edge_features[:,i,:,:], (-1, flattened_size), name='matrix-'+str(i))\n",
    "        adjacency_matrix = edge_features[:,i,:,:]\n",
    "        GCN = GCNConv(dim_post_conv, activation='relu', name=\"GCN_\"+str(i))\n",
    "        graph_conv_output = GCN([node_features, adjacency_matrix])\n",
    "        graph_conv_outputs.append(graph_conv_output)\n",
    "\n",
    "    concatenated = tf.keras.layers.Concatenate(axis=2, name='concat')(graph_conv_outputs)\n",
    "    end = tf.keras.layers.Dense(200)(concatenated)\n",
    "    output = tf.keras.layers.Dense(1)(end)\n",
    "\n",
    "    # Créer un modèle\n",
    "    model = tf.keras.Model(inputs=[node_features, edge_features], outputs=output)\n",
    "    return model\n",
    "\n",
    "create_model(16, 200, 100, None)"
   ]
  },
  {
   "cell_type": "code",
   "execution_count": null,
   "metadata": {},
   "outputs": [],
   "source": []
  }
 ],
 "metadata": {
  "kernelspec": {
   "display_name": "base",
   "language": "python",
   "name": "python3"
  },
  "language_info": {
   "codemirror_mode": {
    "name": "ipython",
    "version": 3
   },
   "file_extension": ".py",
   "mimetype": "text/x-python",
   "name": "python",
   "nbconvert_exporter": "python",
   "pygments_lexer": "ipython3",
   "version": "3.9.12"
  }
 },
 "nbformat": 4,
 "nbformat_minor": 2
}
