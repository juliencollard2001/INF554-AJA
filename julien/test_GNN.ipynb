{
 "cells": [
  {
   "cell_type": "code",
   "execution_count": null,
   "metadata": {},
   "outputs": [],
   "source": [
    "import json\n",
    "from pathlib import Path\n",
    "import numpy as np\n",
    "import networkx as nx\n",
    "import matplotlib.pyplot as plt\n",
    "from tqdm import tqdm \n",
    "\n",
    "def flatten(list_of_list):\n",
    "    return [item for sublist in list_of_list for item in sublist]\n",
    "\n",
    "path_to_training = Path(\"data/training\")\n",
    "path_to_test = Path(\"data/test\")"
   ]
  },
  {
   "cell_type": "code",
   "execution_count": null,
   "metadata": {},
   "outputs": [],
   "source": [
    "#####\n",
    "# training and test sets of transcription ids\n",
    "#####\n",
    "training_set = ['ES2002', 'ES2005', 'ES2006', 'ES2007', 'ES2008', 'ES2009', 'ES2010', 'ES2012', 'ES2013', 'ES2015', 'ES2016', 'IS1000', 'IS1001', 'IS1002', 'IS1003', 'IS1004', 'IS1005', 'IS1006', 'IS1007', 'TS3005', 'TS3008', 'TS3009', 'TS3010', 'TS3011', 'TS3012']\n",
    "training_set = flatten([[m_id+s_id for s_id in 'abcd'] for m_id in training_set])\n",
    "training_set.remove('IS1002a')\n",
    "training_set.remove('IS1005d')\n",
    "training_set.remove('TS3012c')\n",
    "\n",
    "test_set = ['ES2003', 'ES2004', 'ES2011', 'ES2014', 'IS1008', 'IS1009', 'TS3003', 'TS3004', 'TS3006', 'TS3007']\n",
    "test_set = flatten([[m_id+s_id for s_id in 'abcd'] for m_id in test_set])"
   ]
  },
  {
   "cell_type": "code",
   "execution_count": null,
   "metadata": {},
   "outputs": [
    {
     "name": "stdout",
     "output_type": "stream",
     "text": [
      "16\n"
     ]
    }
   ],
   "source": [
    "graph_links_labels= set()\n",
    "for id in training_set:\n",
    "    with open(path_to_training / f\"{id}.txt\", \"r\") as graphe:\n",
    "        for line in graphe:\n",
    "            l = line.split()\n",
    "            graph_links_labels.add(l[1])\n",
    "L = list(graph_links_labels)\n",
    "int2label = {indice: valeur for indice, valeur in enumerate(L)}\n",
    "label2int = {valeur: indice for indice, valeur in enumerate(L)}\n",
    "label2int\n",
    "N_vocab_links = len(L)\n",
    "print(N_vocab_links)"
   ]
  },
  {
   "cell_type": "code",
   "execution_count": null,
   "metadata": {},
   "outputs": [],
   "source": [
    "def feature_extract_train(transcription_id):\n",
    "    path_to_training = Path(\"data/training\")\n",
    "    bert_array = np.load('feature-extraction/bert/training/' + transcription_id +'.npy')\n",
    "    N_nodes = bert_array.shape[0]\n",
    "    edges = np.zeros(shape=(2*N_vocab_links,N_nodes,N_nodes),dtype=bool)\n",
    "    with open(path_to_training / f\"{transcription_id}.txt\", \"r\") as graphe:\n",
    "        for line in graphe:\n",
    "            l = line.split()\n",
    "            i = int(l[0])\n",
    "            j =  int(l[2])\n",
    "            edge_type = label2int[l[1]] - 1\n",
    "            #print('from', i, 'to', j, 'type', edge_type)\n",
    "            edges[edge_type,i,j] = True\n",
    "            edges[N_vocab_links + edge_type, j, i] = True\n",
    "\n",
    "    return bert_array, edges\n",
    "\n",
    "def get_labels(transcription_id):\n",
    "    with open(\"data/training_labels.json\", \"r\") as file:\n",
    "        training_labels = json.load(file)\n",
    "    return np.array(training_labels[transcription_id]).reshape(-1,1)"
   ]
  },
  {
   "cell_type": "code",
   "execution_count": null,
   "metadata": {},
   "outputs": [],
   "source": [
    "from scipy.sparse import csr_matrix\n",
    "\n",
    "def extract_training(N_nodes_max):\n",
    "\n",
    "    N_files = len(training_set)\n",
    "    D_embedding = 384\n",
    "\n",
    "    # set definitons\n",
    "    X_train_nodes = []\n",
    "    X_train_edges = []\n",
    "    y_train = []\n",
    "\n",
    "    # node features\n",
    "    for k, transcription_id in enumerate(training_set):\n",
    "        x = np.zeros(shape=(N_nodes_max, D_embedding))\n",
    "        bert_array = np.load('feature-extraction/bert/training/' + transcription_id +'.npy')\n",
    "        x[0:(bert_array.shape[0]), :] = bert_array\n",
    "        X_train_nodes.append(x)\n",
    "\n",
    "    # edges features\n",
    "    path_to_training = Path(\"data/training\")\n",
    "    for k, transcription_id in enumerate(training_set):\n",
    "        x = np.zeros(shape=(16, N_nodes_max, N_nodes_max), dtype=np.int8)\n",
    "        with open(path_to_training / f\"{transcription_id}.txt\", \"r\") as graphe:\n",
    "            for line in graphe:\n",
    "                l = line.split()\n",
    "                i = int(l[0])\n",
    "                j =  int(l[2])\n",
    "                edge_type = label2int[l[1]] - 1\n",
    "                x[edge_type,i,j] = 1\n",
    "        X_train_edges.append(x)\n",
    "\n",
    "    # labels\n",
    "    for k, transcription_id in enumerate(training_set):\n",
    "        y = np.zeros((N_nodes_max,1))\n",
    "        with open(\"data/training_labels.json\", \"r\") as file:\n",
    "            training_labels = json.load(file)\n",
    "        y[0:(len(training_labels[transcription_id])),:] = np.array(training_labels[transcription_id]).reshape(-1,1)\n",
    "        y_train.append(y)\n",
    "    \n",
    "    return X_train_nodes, X_train_edges, y_train"
   ]
  },
  {
   "cell_type": "code",
   "execution_count": null,
   "metadata": {},
   "outputs": [
    {
     "ename": "MemoryError",
     "evalue": "Unable to allocate 208. GiB for an array with shape (97, 32, 3000, 3000) and data type float64",
     "output_type": "error",
     "traceback": [
      "\u001b[1;31m---------------------------------------------------------------------------\u001b[0m",
      "\u001b[1;31mMemoryError\u001b[0m                               Traceback (most recent call last)",
      "\u001b[1;32mc:\\Users\\julie\\Documents\\Polytechnique\\3A\\INF\\Kagle\\INF554-AJA\\julien\\test_GNN.ipynb Cell 6\u001b[0m line \u001b[0;36m4\n\u001b[0;32m      <a href='vscode-notebook-cell:/c%3A/Users/julie/Documents/Polytechnique/3A/INF/Kagle/INF554-AJA/julien/test_GNN.ipynb#W5sZmlsZQ%3D%3D?line=0'>1</a>\u001b[0m \u001b[39m#X_train_nodes, X_train_edges, y_train = extract_training(2000)\u001b[39;00m\n\u001b[1;32m----> <a href='vscode-notebook-cell:/c%3A/Users/julie/Documents/Polytechnique/3A/INF/Kagle/INF554-AJA/julien/test_GNN.ipynb#W5sZmlsZQ%3D%3D?line=3'>4</a>\u001b[0m arr \u001b[39m=\u001b[39m np\u001b[39m.\u001b[39;49mzeros((\u001b[39m97\u001b[39;49m, \u001b[39m32\u001b[39;49m, \u001b[39m3000\u001b[39;49m, \u001b[39m3000\u001b[39;49m))\n",
      "\u001b[1;31mMemoryError\u001b[0m: Unable to allocate 208. GiB for an array with shape (97, 32, 3000, 3000) and data type float64"
     ]
    }
   ],
   "source": [
    "X_train_nodes, X_train_edges, y_train = extract_training(3000)"
   ]
  },
  {
   "cell_type": "code",
   "execution_count": null,
   "metadata": {},
   "outputs": [],
   "source": [
    "import tensorflow as tf\n",
    "from spektral.layers import GCNConv\n",
    "from sklearn.metrics import f1_score\n",
    "from keras import backend as K\n",
    "\n",
    "\n",
    "def create_model(nb_canaux, dim_embedding, dim_post_conv, nb_nodes=None):\n",
    "\n",
    "    node_features = tf.keras.Input(shape=(nb_nodes, dim_embedding), name=\"node_features\")\n",
    "    edge_features = tf.keras.Input(shape=(nb_canaux, nb_nodes, nb_nodes), name=\"edge_features\")\n",
    "\n",
    "    graph_conv_outputs = []\n",
    "    for i in range(nb_canaux):\n",
    "        adjacency_matrix = edge_features[:,i,:,:]\n",
    "        GCN = GCNConv(dim_post_conv, activation='relu', name=\"GCN_\"+str(i))\n",
    "        graph_conv_output = GCN([node_features, adjacency_matrix])\n",
    "        graph_conv_outputs.append(graph_conv_output)\n",
    "\n",
    "    concatenated = tf.keras.layers.Concatenate(axis=2, name='concat')(graph_conv_outputs)\n",
    "    end = tf.keras.layers.Dense(200)(concatenated)\n",
    "    output = tf.keras.layers.Dense(2, activation='softmax')(end)\n",
    "\n",
    "    model = tf.keras.Model(inputs=[node_features, edge_features], outputs=output)\n",
    "    \n",
    "    # Define custom F1-score metric\n",
    "    def f1_metric(y_true, y_pred):\n",
    "        y_pred = K.round(y_pred)\n",
    "        f1 = f1_score(K.eval(y_true), K.eval(y_pred), average='binary')\n",
    "        return f1\n",
    "    \n",
    "    model.compile(optimizer='adam',  \n",
    "              loss='binary_crossentropy',  \n",
    "              metrics=['accuracy'],\n",
    "              run_eagerly=True)\n",
    "\n",
    "    return model\n",
    "\n"
   ]
  },
  {
   "cell_type": "code",
   "execution_count": null,
   "metadata": {},
   "outputs": [
    {
     "data": {
      "text/plain": [
       "2160"
      ]
     },
     "execution_count": 36,
     "metadata": {},
     "output_type": "execute_result"
    }
   ],
   "source": [
    "X_train_edges_np = np.stack(X_train_edges, axis=0)\n",
    "X_train_nodes_np = np.stack(X_train_nodes, axis=0)\n",
    "\n",
    "from keras.utils import to_categorical\n",
    "\n",
    "y_train_np = to_categorical(np.stack(y_train, axis=0), num_classes=2)\n",
    "\n",
    "print(X_train_nodes_np.shape)\n",
    "print(X_train_edges_np.shape)\n",
    "print(y_train_np.shape)\n",
    "\n",
    "X_train_nodes_rd = np.random.random((100, 5, 384))\n",
    "X_train_edges_rd = np.random.random((100, 32, 5, 5))\n",
    "y_train_rd = to_categorical(np.random.randint(2, size=(100, 5, 1)))\n",
    "\n",
    "print('random')\n",
    "print(X_train_nodes_rd.shape)\n",
    "print(X_train_edges_rd.shape)\n",
    "print(y_train_rd.shape)"
   ]
  },
  {
   "cell_type": "code",
   "execution_count": null,
   "metadata": {},
   "outputs": [
    {
     "name": "stdout",
     "output_type": "stream",
     "text": [
      "(396, 384)\n",
      "(32, 396, 396)\n",
      "(396, 1)\n",
      "random\n",
      "(5, 384)\n",
      "(32, 5, 5)\n",
      "(5, 1)\n",
      "Epoch 1/10\n",
      "4/4 [==============================] - 3s 624ms/step - loss: 0.7035 - accuracy: 0.5520\n",
      "Epoch 2/10\n",
      "4/4 [==============================] - 2s 532ms/step - loss: 0.6932 - accuracy: 0.5360\n",
      "Epoch 3/10\n",
      "4/4 [==============================] - 2s 533ms/step - loss: 0.6881 - accuracy: 0.5460\n",
      "Epoch 4/10\n",
      "4/4 [==============================] - 2s 545ms/step - loss: 0.6870 - accuracy: 0.5600\n",
      "Epoch 5/10\n",
      "4/4 [==============================] - 2s 543ms/step - loss: 0.6831 - accuracy: 0.5720\n",
      "Epoch 6/10\n",
      "4/4 [==============================] - 2s 540ms/step - loss: 0.6795 - accuracy: 0.5840\n",
      "Epoch 7/10\n",
      "4/4 [==============================] - 2s 515ms/step - loss: 0.6770 - accuracy: 0.5740\n",
      "Epoch 8/10\n",
      "4/4 [==============================] - 2s 522ms/step - loss: 0.6763 - accuracy: 0.5780\n",
      "Epoch 9/10\n",
      "4/4 [==============================] - 2s 532ms/step - loss: 0.6721 - accuracy: 0.6060\n",
      "Epoch 10/10\n",
      "4/4 [==============================] - 2s 529ms/step - loss: 0.6682 - accuracy: 0.6120\n"
     ]
    },
    {
     "data": {
      "text/plain": [
       "<keras.src.callbacks.History at 0x18938e7c8e0>"
      ]
     },
     "execution_count": 27,
     "metadata": {},
     "output_type": "execute_result"
    }
   ],
   "source": [
    "model = create_model(32, 384, 10, 5)\n",
    "\n",
    "\n",
    "model.fit([X_train_nodes_rd, X_train_edges_rd], y_train_rd, epochs=2)"
   ]
  },
  {
   "cell_type": "code",
   "execution_count": null,
   "metadata": {},
   "outputs": [],
   "source": [
    "model = create_model(16, 384, 200, 3000)\n",
    "\n",
    "\n",
    "hist = model.fit([X_train_nodes_np[:10,:,:], X_train_edges_np[:10,:,:,:]], y_train_np[:10,:,:], epochs=10)"
   ]
  },
  {
   "cell_type": "code",
   "execution_count": null,
   "metadata": {},
   "outputs": [],
   "source": [
    "p = model.predict([X_train_nodes_np[3:4,:,:], X_train_edges_np[3:4,:,:,:]])\n",
    "p.max(axis=1)"
   ]
  },
  {
   "cell_type": "code",
   "execution_count": null,
   "metadata": {},
   "outputs": [],
   "source": [
    "r = np.argmax(p, axis=2)\n",
    "r"
   ]
  },
  {
   "cell_type": "code",
   "execution_count": null,
   "metadata": {},
   "outputs": [],
   "source": [
    "r.max()"
   ]
  }
 ],
 "metadata": {
  "kernelspec": {
   "display_name": "base",
   "language": "python",
   "name": "python3"
  },
  "language_info": {
   "codemirror_mode": {
    "name": "ipython",
    "version": 3
   },
   "file_extension": ".py",
   "mimetype": "text/x-python",
   "name": "python",
   "nbconvert_exporter": "python",
   "pygments_lexer": "ipython3",
   "version": "3.10.11"
  }
 },
 "nbformat": 4,
 "nbformat_minor": 2
}
