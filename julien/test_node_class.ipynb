{
 "cells": [
  {
   "cell_type": "code",
   "execution_count": 1,
   "metadata": {},
   "outputs": [],
   "source": [
    "import json\n",
    "from pathlib import Path\n",
    "import numpy as np\n",
    "import matplotlib.pyplot as plt\n",
    "from tqdm import tqdm \n",
    "import torch\n",
    "from torch_geometric.data import Data"
   ]
  },
  {
   "cell_type": "code",
   "execution_count": 2,
   "metadata": {},
   "outputs": [],
   "source": [
    "def flatten(list_of_list):\n",
    "    return [item for sublist in list_of_list for item in sublist]\n",
    "\n",
    "path_to_training = Path(\"data/training\")\n",
    "path_to_test = Path(\"data/test\")\n",
    "\n",
    "#####\n",
    "# training and test sets of transcription ids\n",
    "#####\n",
    "training_set = ['ES2002', 'ES2005', 'ES2006', 'ES2007', 'ES2008', 'ES2009', 'ES2010', 'ES2012', 'ES2013', 'ES2015', 'ES2016', 'IS1000', 'IS1001', 'IS1002', 'IS1003', 'IS1004', 'IS1005', 'IS1006', 'IS1007', 'TS3005', 'TS3008', 'TS3009', 'TS3010', 'TS3011', 'TS3012']\n",
    "training_set = flatten([[m_id+s_id for s_id in 'abcd'] for m_id in training_set])\n",
    "training_set.remove('IS1002a')\n",
    "training_set.remove('IS1005d')\n",
    "training_set.remove('TS3012c')\n",
    "\n",
    "test_set = ['ES2003', 'ES2004', 'ES2011', 'ES2014', 'IS1008', 'IS1009', 'TS3003', 'TS3004', 'TS3006', 'TS3007']\n",
    "test_set = flatten([[m_id+s_id for s_id in 'abcd'] for m_id in test_set])"
   ]
  },
  {
   "cell_type": "code",
   "execution_count": 3,
   "metadata": {},
   "outputs": [
    {
     "name": "stdout",
     "output_type": "stream",
     "text": [
      "16\n"
     ]
    }
   ],
   "source": [
    "graph_links_labels= set()\n",
    "for id in training_set:\n",
    "    with open(path_to_training / f\"{id}.txt\", \"r\") as graphe:\n",
    "        for line in graphe:\n",
    "            l = line.split()\n",
    "            graph_links_labels.add(l[1])\n",
    "L = list(graph_links_labels)\n",
    "int2label = {indice: valeur for indice, valeur in enumerate(L)}\n",
    "label2int = {valeur: indice for indice, valeur in enumerate(L)}\n",
    "label2int\n",
    "N_vocab_links = len(L)\n",
    "print(N_vocab_links)"
   ]
  },
  {
   "cell_type": "code",
   "execution_count": 4,
   "metadata": {},
   "outputs": [],
   "source": [
    "def extract_training():\n",
    "\n",
    "    N_files = len(training_set)\n",
    "    D_embedding = 384\n",
    "\n",
    "    graphs = [] \n",
    "\n",
    "    # lets got throug all training graphs\n",
    "    for k, transcription_id in enumerate(training_set):\n",
    "        #nodes\n",
    "        bert_array = np.load('feature-extraction/bert/training/' + transcription_id +'.npy')\n",
    "        x = torch.tensor(bert_array.reshape(-1,384), dtype=torch.float)\n",
    "        #edges\n",
    "        edges = [[] for _ in range(33)]\n",
    "        with open(path_to_training / f\"{transcription_id}.txt\", \"r\") as graphe:\n",
    "            for line in graphe:\n",
    "                l = line.split()\n",
    "                i = int(l[0])\n",
    "                j =  int(l[2])\n",
    "                edge_type = label2int[l[1]] - 1\n",
    "                edges[edge_type].append([i,j])\n",
    "                edges[16 + edge_type].append([i,j])\n",
    "        for i in range(len(x)):\n",
    "            edges[32].append([i,i])\n",
    "        edges = [torch.tensor(edges[k]).t().contiguous() for k in range(33)]\n",
    "        #labels\n",
    "        with open(\"data/training_labels.json\", \"r\") as file:\n",
    "            training_labels = json.load(file)\n",
    "        labels = torch.tensor(np.array(training_labels[transcription_id]))\n",
    "        graph = Data(x=x, edge_index=edges, y=labels)\n",
    "        graphs.append(graph)\n",
    "    return graphs\n",
    "\n",
    "def extract_test():\n",
    "\n",
    "    N_files = len(training_set)\n",
    "    D_embedding = 384\n",
    "\n",
    "    graphs = [] \n",
    "\n",
    "    # lets got throug all training graphs\n",
    "    for k, transcription_id in enumerate(test_set):\n",
    "        #nodes\n",
    "        bert_array = np.load('feature-extraction/bert/test/' + transcription_id +'.npy')\n",
    "        x = torch.tensor(bert_array.reshape(-1,384), dtype=torch.float)\n",
    "        #edges\n",
    "        edges = [[] for _ in range(33)]\n",
    "        with open(path_to_test / f\"{transcription_id}.txt\", \"r\") as graphe:\n",
    "            for line in graphe:\n",
    "                l = line.split()\n",
    "                i = int(l[0])\n",
    "                j =  int(l[2])\n",
    "                edge_type = label2int[l[1]] - 1\n",
    "                edges[edge_type].append([i,j])\n",
    "                edges[16 + edge_type].append([i,j])\n",
    "        for i in range(len(x)):\n",
    "            edges[32].append([i,i])\n",
    "        edges = [torch.tensor(edges[k]).t().contiguous() for k in range(33)]\n",
    "        \n",
    "        graph = Data(x=x, edge_index=edges)\n",
    "        graphs.append(graph)\n",
    "    return graphs\n"
   ]
  },
  {
   "cell_type": "code",
   "execution_count": 5,
   "metadata": {},
   "outputs": [],
   "source": [
    "from torch_geometric.loader import DataLoader\n",
    "\n",
    "data = extract_training()\n",
    "\n",
    "data_test_kagle = extract_test()\n",
    "\n",
    "nb_test = 20\n",
    "\n",
    "data_train = data[:-nb_test]\n",
    "data_test = data[-nb_test:]\n",
    "train_loader = DataLoader(data_train)\n",
    "test_loader = DataLoader(data_test)"
   ]
  },
  {
   "cell_type": "code",
   "execution_count": 6,
   "metadata": {},
   "outputs": [],
   "source": [
    "import torch\n",
    "import torch.nn as nn\n",
    "from torch_geometric.nn import GCNConv\n",
    "import torch.nn.functional as F\n",
    "\n",
    "class NodeClassifier(torch.nn.Module):\n",
    "    def __init__(self, channels, input_dim):\n",
    "        super(NodeClassifier, self).__init__()\n",
    "        self.channels = channels\n",
    "        self.sc1 = 100\n",
    "        self.f1 = 50\n",
    "        self.sc2 = 30\n",
    "        self.GCN1 = nn.ModuleList([GCNConv(input_dim, self.sc1) for _ in range(channels)])\n",
    "        self.dense1 = nn.Linear(self.sc1*channels, self.f1)\n",
    "        self.GCN2 = nn.ModuleList([GCNConv(self.f1, self.sc2) for _ in range(channels)])\n",
    "        self.dense2 = nn.Linear(self.sc2*channels, 2)\n",
    "\n",
    "    def forward(self, data):\n",
    "        nodes, edges = data.x, data.edge_index\n",
    "        # Appliquez les couches GCN avec une activation ReLU entre elles\n",
    "        x1 = []\n",
    "        for k in range(self.channels):\n",
    "            if len(edges[k]) == 0:\n",
    "                x = torch.zeros(nodes.shape[0], self.sc1)\n",
    "            else:\n",
    "                x = F.relu(self.GCN1[k](nodes, edges[k]))\n",
    "            x1.append(x)\n",
    "        x1_f = torch.cat(x1, dim=1)\n",
    "\n",
    "        f1 = F.relu(self.dense1(x1_f))\n",
    "\n",
    "        x2 = []\n",
    "        for k in range(self.channels):\n",
    "            if len(edges[k]) == 0:\n",
    "                x = torch.zeros(nodes.shape[0], self.sc2)\n",
    "            else:\n",
    "                x = F.relu(self.GCN2[k](f1, edges[k]))\n",
    "            x1.append(x)\n",
    "            x2.append(x)\n",
    "        x2_f = torch.cat(x2, dim=1)\n",
    "\n",
    "        x_out = self.dense2(x2_f)\n",
    "\n",
    "        return F.log_softmax(x_out, dim=1)\n",
    "\n"
   ]
  },
  {
   "cell_type": "code",
   "execution_count": 7,
   "metadata": {},
   "outputs": [],
   "source": [
    "from sklearn.metrics import confusion_matrix\n",
    "\n",
    "def f1_score(y_pred, y_real):\n",
    "    conf_matrix = confusion_matrix(y_real, y_pred)\n",
    "    tp, fp, fn, tn = conf_matrix[1, 1], conf_matrix[0, 1], conf_matrix[1, 0], conf_matrix[0, 0]\n",
    "    if (tp + fp) == 0:\n",
    "        return 0\n",
    "    if (tp + fn) == 0:\n",
    "        return 0\n",
    "    precision = tp / (tp + fp)\n",
    "    recall = tp / (tp + fn)\n",
    "    if (precision + recall) == 0:\n",
    "        return 0\n",
    "    f1 = 2 * (precision * recall) / (precision + recall)\n",
    "    return f1"
   ]
  },
  {
   "cell_type": "code",
   "execution_count": null,
   "metadata": {},
   "outputs": [],
   "source": []
  },
  {
   "cell_type": "code",
   "execution_count": 8,
   "metadata": {},
   "outputs": [],
   "source": [
    "\n",
    "# Entraînez le modèle\n",
    "def train(model, train_loader, optimizer, criterion,):\n",
    "    model.train()\n",
    "    loss_tot = 0\n",
    "    for data in train_loader:\n",
    "        optimizer.zero_grad()  # Clear gradients.\n",
    "        out = model(data)  # Perform a single forward pass.\n",
    "        loss = criterion(out, data.y.long())  # Compute the loss solely based on the training nodes.\n",
    "        loss.backward()  # Derive gradients.\n",
    "        optimizer.step()  # Update parameters based on gradients.\n",
    "        loss_tot += loss\n",
    "    return loss_tot\n",
    "\n",
    "def test_during_training(model, validation_loader):\n",
    "    model.eval()\n",
    "    S = 0\n",
    "    for data in validation_loader:\n",
    "        predicted = prediction(model, data)\n",
    "        f1 = f1_score(predicted, data.y.numpy())\n",
    "        S += f1\n",
    "    f1_moyen = S / len(test_loader)\n",
    "    print(f'F1-score: {f1_moyen}')\n",
    "\n",
    "def prediction(model, graph):\n",
    "    model.eval()\n",
    "    out = model(graph)\n",
    "    _, predicted = torch.max(out, 1)\n",
    "    return predicted.numpy()\n",
    "\n"
   ]
  },
  {
   "cell_type": "code",
   "execution_count": 9,
   "metadata": {},
   "outputs": [],
   "source": [
    "# Instanciez le modèle\n",
    "model = NodeClassifier(33,384)\n",
    "\n",
    "# Définissez la fonction de perte et l'optimiseur\n",
    "f = 0.3\n",
    "#criterion = torch.nn.CrossEntropyLoss(weight=torch.tensor([1-f, f]))\n",
    "criterion = torch.nn.CrossEntropyLoss()\n",
    "optimizer = torch.optim.Adam(model.parameters(), lr=0.01)"
   ]
  },
  {
   "cell_type": "code",
   "execution_count": 10,
   "metadata": {},
   "outputs": [
    {
     "name": "stdout",
     "output_type": "stream",
     "text": [
      "-----------------------------\n",
      "Data\n",
      "13292 labels 1 sur  72623 noeuds soit 18.30274155570549 %\n",
      "-----------------------------\n",
      "Training set : 77 graphs\n",
      "10580 labels 1 sur  53802 noeuds soit 19.66469647968477 %\n",
      "Testing set : 20\n",
      "2712 labels 1 sur  18821 noeuds soit 14.409436267998512 %\n",
      "-----------------------------\n",
      "Epoch: 000, Loss: 31.6019\n",
      "F1-score: 0.4838454733227497\n",
      "Epoch: 001, Loss: 26.7909\n",
      "F1-score: 0.4987080272397703\n",
      "Epoch: 002, Loss: 25.6384\n",
      "F1-score: 0.5027416328473369\n",
      "-----------------------------\n",
      "Test du modèle :\n",
      "4140 label 1 prédits sur les  2712 voulus ( 21.996705807342863 %)\n"
     ]
    }
   ],
   "source": [
    "print(\"-----------------------------\")\n",
    "print('Data')\n",
    "ones = sum([np.sum(g.y.numpy()) for g in data])\n",
    "tot_nodes = sum([g.x.numpy().shape[0] for g in data])\n",
    "print(ones, 'labels 1 sur ',tot_nodes,'noeuds soit', 100*ones/tot_nodes, '%')\n",
    "print(\"-----------------------------\")\n",
    "print('Training set :', len(data_train),'graphs')\n",
    "ones = sum([np.sum(g.y.numpy()) for g in data_train])\n",
    "tot_nodes = sum([g.x.numpy().shape[0] for g in data_train])\n",
    "print(ones, 'labels 1 sur ',tot_nodes,'noeuds soit', 100*ones/tot_nodes, '%')\n",
    "print('Testing set :', len(data_test))\n",
    "ones_test = sum([np.sum(g.y.numpy()) for g in data_test])\n",
    "tot_nodes_test = sum([g.x.numpy().shape[0] for g in data_test])\n",
    "print(ones_test, 'labels 1 sur ',tot_nodes_test,'noeuds soit', 100*ones_test/tot_nodes_test, '%')\n",
    "print(\"-----------------------------\")\n",
    "\n",
    "for epoch in range(3):\n",
    "    loss = train(model, train_loader, optimizer, criterion)\n",
    "    print(f'Epoch: {epoch:03d}, Loss: {loss:.4f}')\n",
    "    test_during_training(model, test_loader)\n",
    "\n",
    "ones_predicted = sum([np.sum(prediction(model, g)) for g in test_loader])\n",
    "print(\"-----------------------------\")\n",
    "print(\"Test du modèle :\")\n",
    "print(ones_predicted, 'label 1 prédits sur les ',ones_test,'voulus (',100 * ones_predicted/tot_nodes_test,'%)')"
   ]
  },
  {
   "cell_type": "code",
   "execution_count": 11,
   "metadata": {},
   "outputs": [
    {
     "ename": "TypeError",
     "evalue": "prediction() missing 1 required positional argument: 'graph'",
     "output_type": "error",
     "traceback": [
      "\u001b[1;31m---------------------------------------------------------------------------\u001b[0m",
      "\u001b[1;31mTypeError\u001b[0m                                 Traceback (most recent call last)",
      "\u001b[1;32mc:\\Users\\julie\\Documents\\Polytechnique\\3A\\INF\\Kagle\\INF554-AJA\\julien\\test_node_class.ipynb Cell 12\u001b[0m line \u001b[0;36m1\n\u001b[1;32m----> <a href='vscode-notebook-cell:/c%3A/Users/julie/Documents/Polytechnique/3A/INF/Kagle/INF554-AJA/julien/test_node_class.ipynb#X35sZmlsZQ%3D%3D?line=0'>1</a>\u001b[0m prediction(data_test[\u001b[39m0\u001b[39;49m])\n",
      "\u001b[1;31mTypeError\u001b[0m: prediction() missing 1 required positional argument: 'graph'"
     ]
    }
   ],
   "source": [
    "prediction(data_test[0])"
   ]
  },
  {
   "cell_type": "code",
   "execution_count": null,
   "metadata": {},
   "outputs": [],
   "source": [
    "from sklearn.metrics import confusion_matrix\n",
    "import seaborn as sns\n",
    "\n",
    "def analyse_model(model, test_loader):\n",
    "    model.eval()\n",
    "    S = 0\n",
    "    global_conf_matrix = np.zeros((2,2))\n",
    "    global_proba_matrix = np.zeros((2,2))\n",
    "    for data in test_loader:\n",
    "        out = model(data)\n",
    "        _, predicted = torch.max(out, 1)\n",
    "        y_pred = predicted.numpy()\n",
    "        y_true = data.y.numpy()\n",
    "        conf_matrix = confusion_matrix(y_true, y_pred)\n",
    "        proba_matrix = \n",
    "        global_conf_matrix += conf_matrix\n",
    "        f1 = f1_score(y_pred, y_true)\n",
    "        S += f1\n",
    "    f1_moyen = S / len(test_loader)\n",
    "    print('F1-score:',f1_moyen)\n",
    "    plt.figure(figsize=(3, 3))\n",
    "    sns.heatmap(global_conf_matrix, annot=True, cmap=\"Blues\", cbar=False,\n",
    "                xticklabels=np.unique(y_true), yticklabels=np.unique(y_true))\n",
    "    plt.xlabel('Predicted')\n",
    "    plt.ylabel('True')\n",
    "    plt.title('Confusion Matrix')\n",
    "    plt.show()"
   ]
  },
  {
   "cell_type": "code",
   "execution_count": null,
   "metadata": {},
   "outputs": [
    {
     "name": "stdout",
     "output_type": "stream",
     "text": [
      "F1-score: 0.49786984108400045\n"
     ]
    },
    {
     "data": {
      "image/png": "[encoded data removed]",
      "text/plain": [
       "<Figure size 300x300 with 1 Axes>"
      ]
     },
     "metadata": {},
     "output_type": "display_data"
    }
   ],
   "source": [
    "analyse_model(model, test_loader)"
   ]
  },
  {
   "cell_type": "code",
   "execution_count": null,
   "metadata": {},
   "outputs": [],
   "source": []
  },
  {
   "cell_type": "code",
   "execution_count": null,
   "metadata": {},
   "outputs": [
    {
     "name": "stdout",
     "output_type": "stream",
     "text": [
      "40\n"
     ]
    }
   ],
   "source": [
    "print(len(data_test_kagle))"
   ]
  },
  {
   "cell_type": "code",
   "execution_count": null,
   "metadata": {},
   "outputs": [
    {
     "name": "stdout",
     "output_type": "stream",
     "text": [
      "ES2003a\n",
      "ES2003b\n",
      "ES2003c\n",
      "ES2003d\n",
      "ES2004a\n",
      "ES2004b\n",
      "ES2004c\n",
      "ES2004d\n",
      "ES2011a\n",
      "ES2011b\n",
      "ES2011c\n",
      "ES2011d\n",
      "ES2014a\n",
      "ES2014b\n",
      "ES2014c\n",
      "ES2014d\n",
      "IS1008a\n",
      "IS1008b\n",
      "IS1008c\n",
      "IS1008d\n",
      "IS1009a\n",
      "IS1009b\n",
      "IS1009c\n",
      "IS1009d\n",
      "TS3003a\n",
      "TS3003b\n",
      "TS3003c\n",
      "TS3003d\n",
      "TS3004a\n",
      "TS3004b\n",
      "TS3004c\n",
      "TS3004d\n",
      "TS3006a\n",
      "TS3006b\n",
      "TS3006c\n",
      "TS3006d\n",
      "TS3007a\n",
      "TS3007b\n",
      "TS3007c\n",
      "TS3007d\n"
     ]
    }
   ],
   "source": [
    "test_labels = {}\n",
    "for i, graph in enumerate(data_test_kagle):\n",
    "    id = test_set[i]\n",
    "    y_test = prediction(graph)\n",
    "    test_labels[id] = y_test.tolist()\n",
    "\n",
    "with open(\"test_labels_GNN.json\", \"w\") as file:\n",
    "    json.dump(test_labels, file, indent=4)"
   ]
  },
  {
   "cell_type": "code",
   "execution_count": null,
   "metadata": {},
   "outputs": [],
   "source": []
  },
  {
   "cell_type": "code",
   "execution_count": null,
   "metadata": {},
   "outputs": [],
   "source": []
  },
  {
   "cell_type": "code",
   "execution_count": null,
   "metadata": {},
   "outputs": [],
   "source": []
  },
  {
   "cell_type": "code",
   "execution_count": null,
   "metadata": {},
   "outputs": [],
   "source": []
  }
 ],
 "metadata": {
  "kernelspec": {
   "display_name": "base",
   "language": "python",
   "name": "python3"
  },
  "language_info": {
   "codemirror_mode": {
    "name": "ipython",
    "version": 3
   },
   "file_extension": ".py",
   "mimetype": "text/x-python",
   "name": "python",
   "nbconvert_exporter": "python",
   "pygments_lexer": "ipython3",
   "version": "3.9.12"
  }
 },
 "nbformat": 4,
 "nbformat_minor": 2
}
